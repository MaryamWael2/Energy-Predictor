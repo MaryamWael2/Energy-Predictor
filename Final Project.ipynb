{
 "cells": [
  {
   "cell_type": "markdown",
   "id": "former-extent",
   "metadata": {
    "id": "former-extent"
   },
   "source": [
    "## CSCI461 Project\n",
    "## Energy Prediction Model"
   ]
  },
  {
   "cell_type": "markdown",
   "id": "visible-oakland",
   "metadata": {
    "id": "visible-oakland"
   },
   "source": [
    "## Introduction\n",
    "### Overview\n",
    "\n",
    "Assessing the value of energy efficiency improvements can be challenging as there's no way to truly know how much energy a building would have used without the improvements. The best we can do is to build counterfactual models. Once a building is overhauled the new (lower) energy consumption is compared against modeled values for the original building to calculate the savings from the retrofit. More accurate models could support better market incentives and enable lower cost financing.\n",
    "\n",
    "In this project, we will build these models across four energy types based on historic usage rates and observed weather. The dataset includes three years of hourly meter readings from over one thousand buildings at several different sites around the world.\n",
    "\n",
    "### The challenge\n",
    "We must construct accurate projections of metered building energy use in the following areas: chilled water, electric, hot water, and steam meters in this competition. Over 1,000 structures were studied over a three-year period. The goal is that, with more accurate estimations of these energy-saving projects, big-scale investors and financial institutions will be more motivated to invest in this area, allowing advances in building efficiency to be made.\n",
    "\n",
    "### Main Files\n",
    "**1) train.csv**\n",
    "\n",
    "Contains the training data including building_id, meter, timestamp and meter_reading (the target variable).\n",
    "\n",
    "**2) building_meta.csv**\n",
    "\n",
    "Contains information about the building such as site_id, building_id, primary_use, square_feet, year_built, and floor_count.\n",
    "\n",
    "**3) weather_[train/test].csv**\n",
    "\n",
    "Weather data from a meteorological station as close as possible to the site. It includes information about air_temperature, cloud_coverage, dew_temperature, precip_depth_1_hr, sea_level_pressure, wind_direction, and wind_speed."
   ]
  },
  {
   "cell_type": "code",
   "execution_count": null,
   "id": "collaborative-medication",
   "metadata": {
    "id": "collaborative-medication"
   },
   "outputs": [],
   "source": [
    "import numpy as np\n",
    "import pandas as pd\n",
    "import seaborn as sb\n",
    "import matplotlib.pyplot as plt\n",
    "import os\n",
    "from sklearn import preprocessing\n",
    "from sklearn.preprocessing import LabelEncoder\n",
    "from sklearn.model_selection import train_test_split\n",
    "%matplotlib inline"
   ]
  },
  {
   "cell_type": "markdown",
   "id": "announced-praise",
   "metadata": {
    "id": "announced-praise"
   },
   "source": [
    "## Exploring \"building_metadata.csv\" file"
   ]
  },
  {
   "cell_type": "code",
   "execution_count": null,
   "id": "senior-visitor",
   "metadata": {
    "id": "senior-visitor",
    "outputId": "15e1a461-e06f-4611-d516-225c21fdda3e"
   },
   "outputs": [
    {
     "data": {
      "text/html": [
       "<div>\n",
       "<style scoped>\n",
       "    .dataframe tbody tr th:only-of-type {\n",
       "        vertical-align: middle;\n",
       "    }\n",
       "\n",
       "    .dataframe tbody tr th {\n",
       "        vertical-align: top;\n",
       "    }\n",
       "\n",
       "    .dataframe thead th {\n",
       "        text-align: right;\n",
       "    }\n",
       "</style>\n",
       "<table border=\"1\" class=\"dataframe\">\n",
       "  <thead>\n",
       "    <tr style=\"text-align: right;\">\n",
       "      <th></th>\n",
       "      <th>site_id</th>\n",
       "      <th>building_id</th>\n",
       "      <th>primary_use</th>\n",
       "      <th>square_feet</th>\n",
       "      <th>year_built</th>\n",
       "      <th>floor_count</th>\n",
       "    </tr>\n",
       "  </thead>\n",
       "  <tbody>\n",
       "    <tr>\n",
       "      <th>0</th>\n",
       "      <td>0</td>\n",
       "      <td>0</td>\n",
       "      <td>Education</td>\n",
       "      <td>7432</td>\n",
       "      <td>2008.0</td>\n",
       "      <td>NaN</td>\n",
       "    </tr>\n",
       "    <tr>\n",
       "      <th>1</th>\n",
       "      <td>0</td>\n",
       "      <td>1</td>\n",
       "      <td>Education</td>\n",
       "      <td>2720</td>\n",
       "      <td>2004.0</td>\n",
       "      <td>NaN</td>\n",
       "    </tr>\n",
       "    <tr>\n",
       "      <th>2</th>\n",
       "      <td>0</td>\n",
       "      <td>2</td>\n",
       "      <td>Education</td>\n",
       "      <td>5376</td>\n",
       "      <td>1991.0</td>\n",
       "      <td>NaN</td>\n",
       "    </tr>\n",
       "    <tr>\n",
       "      <th>3</th>\n",
       "      <td>0</td>\n",
       "      <td>3</td>\n",
       "      <td>Education</td>\n",
       "      <td>23685</td>\n",
       "      <td>2002.0</td>\n",
       "      <td>NaN</td>\n",
       "    </tr>\n",
       "    <tr>\n",
       "      <th>4</th>\n",
       "      <td>0</td>\n",
       "      <td>4</td>\n",
       "      <td>Education</td>\n",
       "      <td>116607</td>\n",
       "      <td>1975.0</td>\n",
       "      <td>NaN</td>\n",
       "    </tr>\n",
       "  </tbody>\n",
       "</table>\n",
       "</div>"
      ],
      "text/plain": [
       "   site_id  building_id primary_use  square_feet  year_built  floor_count\n",
       "0        0            0   Education         7432      2008.0          NaN\n",
       "1        0            1   Education         2720      2004.0          NaN\n",
       "2        0            2   Education         5376      1991.0          NaN\n",
       "3        0            3   Education        23685      2002.0          NaN\n",
       "4        0            4   Education       116607      1975.0          NaN"
      ]
     },
     "execution_count": 2,
     "metadata": {},
     "output_type": "execute_result"
    }
   ],
   "source": [
    "#Load data\n",
    "file_name = 'building_metadata.csv'\n",
    "building_metadata_df = pd.read_csv(file_name)\n",
    "building_metadata_df.head()"
   ]
  },
  {
   "cell_type": "code",
   "execution_count": null,
   "id": "changed-violin",
   "metadata": {
    "id": "changed-violin",
    "outputId": "fee54516-846c-4b3e-c772-38fd06e4008f"
   },
   "outputs": [
    {
     "data": {
      "text/plain": [
       "(1449, 6)"
      ]
     },
     "execution_count": 3,
     "metadata": {},
     "output_type": "execute_result"
    }
   ],
   "source": [
    "building_metadata_df.shape"
   ]
  },
  {
   "cell_type": "code",
   "execution_count": null,
   "id": "asian-costume",
   "metadata": {
    "id": "asian-costume",
    "outputId": "16d5221d-03d5-4876-ebf2-8a33c94708f5"
   },
   "outputs": [
    {
     "name": "stdout",
     "output_type": "stream",
     "text": [
      "<class 'pandas.core.frame.DataFrame'>\n",
      "RangeIndex: 1449 entries, 0 to 1448\n",
      "Data columns (total 6 columns):\n",
      " #   Column       Non-Null Count  Dtype  \n",
      "---  ------       --------------  -----  \n",
      " 0   site_id      1449 non-null   int64  \n",
      " 1   building_id  1449 non-null   int64  \n",
      " 2   primary_use  1449 non-null   object \n",
      " 3   square_feet  1449 non-null   int64  \n",
      " 4   year_built   675 non-null    float64\n",
      " 5   floor_count  355 non-null    float64\n",
      "dtypes: float64(2), int64(3), object(1)\n",
      "memory usage: 68.0+ KB\n"
     ]
    }
   ],
   "source": [
    "# Check for missing or null values\n",
    "building_metadata_df.info()"
   ]
  },
  {
   "cell_type": "code",
   "execution_count": null,
   "id": "stainless-accordance",
   "metadata": {
    "id": "stainless-accordance",
    "outputId": "fddc9b68-0ae1-4f97-90ea-5edd23dab4af",
    "scrolled": true
   },
   "outputs": [
    {
     "name": "stdout",
     "output_type": "stream",
     "text": [
      "Percentage of missing values in year_build column is  53.41614906832298 %\n",
      "Percentage of missing values in floor_count column is  75.50034506556246 %\n"
     ]
    }
   ],
   "source": [
    "year_build_missing_per = 100*(building_metadata_df.year_built.isna().sum()/len(building_metadata_df))\n",
    "floor_count_missing_per = 100*(building_metadata_df.floor_count.isna().sum()/len(building_metadata_df))\n",
    "\n",
    "print(\"Percentage of missing values in year_build column is \", year_build_missing_per, \"%\")\n",
    "print(\"Percentage of missing values in floor_count column is \", floor_count_missing_per, \"%\")"
   ]
  },
  {
   "cell_type": "markdown",
   "id": "thrown-rendering",
   "metadata": {
    "id": "thrown-rendering"
   },
   "source": [
    "**Because more than half of their values are missing, these two features are not going to be particularly useful. So, we will drop them.**"
   ]
  },
  {
   "cell_type": "code",
   "execution_count": null,
   "id": "preceding-gothic",
   "metadata": {
    "id": "preceding-gothic"
   },
   "outputs": [],
   "source": [
    "building_metadata_df.drop(['floor_count', 'year_built'], axis=1, inplace=True)"
   ]
  },
  {
   "cell_type": "code",
   "execution_count": null,
   "id": "protecting-juvenile",
   "metadata": {
    "id": "protecting-juvenile",
    "outputId": "8244fde3-ce9c-41a9-acc4-65fbc5a747ae"
   },
   "outputs": [
    {
     "data": {
      "text/plain": [
       "0"
      ]
     },
     "execution_count": 7,
     "metadata": {},
     "output_type": "execute_result"
    }
   ],
   "source": [
    "#Check for duplicate values\n",
    "building_metadata_df.duplicated().sum()"
   ]
  },
  {
   "cell_type": "code",
   "execution_count": null,
   "id": "contrary-reggae",
   "metadata": {
    "id": "contrary-reggae",
    "outputId": "68d636d0-4c2e-4e1d-f91d-c4da438ea8db"
   },
   "outputs": [
    {
     "data": {
      "text/plain": [
       "array([ 0,  1,  2,  3,  4,  5,  6,  7,  8,  9, 10, 11, 12, 13, 14, 15],\n",
       "      dtype=int64)"
      ]
     },
     "execution_count": 8,
     "metadata": {},
     "output_type": "execute_result"
    }
   ],
   "source": [
    "building_metadata_df['site_id'].unique()"
   ]
  },
  {
   "cell_type": "code",
   "execution_count": null,
   "id": "british-expense",
   "metadata": {
    "id": "british-expense",
    "outputId": "117555d6-5d99-4a8d-d727-80da942444e2"
   },
   "outputs": [
    {
     "data": {
      "text/plain": [
       "array([   0,    1,    2, ..., 1446, 1447, 1448], dtype=int64)"
      ]
     },
     "execution_count": 9,
     "metadata": {},
     "output_type": "execute_result"
    }
   ],
   "source": [
    "building_metadata_df['building_id'].unique()"
   ]
  },
  {
   "cell_type": "code",
   "execution_count": null,
   "id": "continuing-special",
   "metadata": {
    "id": "continuing-special",
    "outputId": "731ff721-5f07-474a-c71a-6434b0320b66"
   },
   "outputs": [
    {
     "data": {
      "text/plain": [
       "<AxesSubplot:xlabel='site_id', ylabel='count'>"
      ]
     },
     "execution_count": 10,
     "metadata": {},
     "output_type": "execute_result"
    },
    {
     "data": {
      "image/png": "[encoded data removed]",
      "text/plain": [
       "<Figure size 432x288 with 1 Axes>"
      ]
     },
     "metadata": {
      "needs_background": "light"
     },
     "output_type": "display_data"
    }
   ],
   "source": [
    "#Plot to represent number of buildings in every site\n",
    "sb.countplot(x='site_id', data=building_metadata_df)"
   ]
  },
  {
   "cell_type": "code",
   "execution_count": null,
   "id": "clean-height",
   "metadata": {
    "id": "clean-height",
    "outputId": "cb555c48-54d4-484e-de23-601f695cc556"
   },
   "outputs": [
    {
     "data": {
      "text/plain": [
       "Education                        549\n",
       "Office                           279\n",
       "Entertainment/public assembly    184\n",
       "Public services                  156\n",
       "Lodging/residential              147\n",
       "Other                             25\n",
       "Healthcare                        23\n",
       "Parking                           22\n",
       "Warehouse/storage                 13\n",
       "Manufacturing/industrial          12\n",
       "Retail                            11\n",
       "Services                          10\n",
       "Technology/science                 6\n",
       "Food sales and service             5\n",
       "Utility                            4\n",
       "Religious worship                  3\n",
       "Name: primary_use, dtype: int64"
      ]
     },
     "execution_count": 11,
     "metadata": {},
     "output_type": "execute_result"
    }
   ],
   "source": [
    "#Number of buildings in every primary_use\n",
    "building_metadata_df['primary_use'].value_counts()"
   ]
  },
  {
   "cell_type": "code",
   "execution_count": null,
   "id": "buried-musical",
   "metadata": {
    "id": "buried-musical",
    "outputId": "36d0130e-5012-4b63-abff-b61fe8f63b6e"
   },
   "outputs": [
    {
     "data": {
      "text/html": [
       "<div>\n",
       "<style scoped>\n",
       "    .dataframe tbody tr th:only-of-type {\n",
       "        vertical-align: middle;\n",
       "    }\n",
       "\n",
       "    .dataframe tbody tr th {\n",
       "        vertical-align: top;\n",
       "    }\n",
       "\n",
       "    .dataframe thead th {\n",
       "        text-align: right;\n",
       "    }\n",
       "</style>\n",
       "<table border=\"1\" class=\"dataframe\">\n",
       "  <thead>\n",
       "    <tr style=\"text-align: right;\">\n",
       "      <th></th>\n",
       "      <th>mean</th>\n",
       "    </tr>\n",
       "    <tr>\n",
       "      <th>primary_use</th>\n",
       "      <th></th>\n",
       "    </tr>\n",
       "  </thead>\n",
       "  <tbody>\n",
       "    <tr>\n",
       "      <th>Education</th>\n",
       "      <td>104329.000000</td>\n",
       "    </tr>\n",
       "    <tr>\n",
       "      <th>Entertainment/public assembly</th>\n",
       "      <td>80584.070652</td>\n",
       "    </tr>\n",
       "    <tr>\n",
       "      <th>Food sales and service</th>\n",
       "      <td>38485.000000</td>\n",
       "    </tr>\n",
       "    <tr>\n",
       "      <th>Healthcare</th>\n",
       "      <td>140480.869565</td>\n",
       "    </tr>\n",
       "    <tr>\n",
       "      <th>Lodging/residential</th>\n",
       "      <td>85368.605442</td>\n",
       "    </tr>\n",
       "    <tr>\n",
       "      <th>Manufacturing/industrial</th>\n",
       "      <td>41120.833333</td>\n",
       "    </tr>\n",
       "    <tr>\n",
       "      <th>Office</th>\n",
       "      <td>87065.627240</td>\n",
       "    </tr>\n",
       "    <tr>\n",
       "      <th>Other</th>\n",
       "      <td>31456.560000</td>\n",
       "    </tr>\n",
       "    <tr>\n",
       "      <th>Parking</th>\n",
       "      <td>279341.772727</td>\n",
       "    </tr>\n",
       "    <tr>\n",
       "      <th>Public services</th>\n",
       "      <td>64947.282051</td>\n",
       "    </tr>\n",
       "    <tr>\n",
       "      <th>Religious worship</th>\n",
       "      <td>11276.666667</td>\n",
       "    </tr>\n",
       "    <tr>\n",
       "      <th>Retail</th>\n",
       "      <td>39298.000000</td>\n",
       "    </tr>\n",
       "    <tr>\n",
       "      <th>Services</th>\n",
       "      <td>200659.100000</td>\n",
       "    </tr>\n",
       "    <tr>\n",
       "      <th>Technology/science</th>\n",
       "      <td>59176.333333</td>\n",
       "    </tr>\n",
       "    <tr>\n",
       "      <th>Utility</th>\n",
       "      <td>31095.750000</td>\n",
       "    </tr>\n",
       "    <tr>\n",
       "      <th>Warehouse/storage</th>\n",
       "      <td>45584.230769</td>\n",
       "    </tr>\n",
       "  </tbody>\n",
       "</table>\n",
       "</div>"
      ],
      "text/plain": [
       "                                        mean\n",
       "primary_use                                 \n",
       "Education                      104329.000000\n",
       "Entertainment/public assembly   80584.070652\n",
       "Food sales and service          38485.000000\n",
       "Healthcare                     140480.869565\n",
       "Lodging/residential             85368.605442\n",
       "Manufacturing/industrial        41120.833333\n",
       "Office                          87065.627240\n",
       "Other                           31456.560000\n",
       "Parking                        279341.772727\n",
       "Public services                 64947.282051\n",
       "Religious worship               11276.666667\n",
       "Retail                          39298.000000\n",
       "Services                       200659.100000\n",
       "Technology/science              59176.333333\n",
       "Utility                         31095.750000\n",
       "Warehouse/storage               45584.230769"
      ]
     },
     "execution_count": 12,
     "metadata": {},
     "output_type": "execute_result"
    }
   ],
   "source": [
    "#Mean Of square_feet by primary_use\n",
    "building_metadata_df.groupby('primary_use').square_feet.agg(['mean'])"
   ]
  },
  {
   "cell_type": "markdown",
   "id": "endless-trace",
   "metadata": {
    "id": "endless-trace"
   },
   "source": [
    "## Exploring \"train.csv\" file"
   ]
  },
  {
   "cell_type": "code",
   "execution_count": null,
   "id": "exciting-mount",
   "metadata": {
    "id": "exciting-mount",
    "outputId": "33ea9347-b7e3-49b9-961a-5686bf669e02"
   },
   "outputs": [
    {
     "data": {
      "text/html": [
       "<div>\n",
       "<style scoped>\n",
       "    .dataframe tbody tr th:only-of-type {\n",
       "        vertical-align: middle;\n",
       "    }\n",
       "\n",
       "    .dataframe tbody tr th {\n",
       "        vertical-align: top;\n",
       "    }\n",
       "\n",
       "    .dataframe thead th {\n",
       "        text-align: right;\n",
       "    }\n",
       "</style>\n",
       "<table border=\"1\" class=\"dataframe\">\n",
       "  <thead>\n",
       "    <tr style=\"text-align: right;\">\n",
       "      <th></th>\n",
       "      <th>building_id</th>\n",
       "      <th>meter</th>\n",
       "      <th>timestamp</th>\n",
       "      <th>meter_reading</th>\n",
       "    </tr>\n",
       "  </thead>\n",
       "  <tbody>\n",
       "    <tr>\n",
       "      <th>0</th>\n",
       "      <td>0</td>\n",
       "      <td>0</td>\n",
       "      <td>2016-01-01</td>\n",
       "      <td>0.0</td>\n",
       "    </tr>\n",
       "    <tr>\n",
       "      <th>1</th>\n",
       "      <td>1</td>\n",
       "      <td>0</td>\n",
       "      <td>2016-01-01</td>\n",
       "      <td>0.0</td>\n",
       "    </tr>\n",
       "    <tr>\n",
       "      <th>2</th>\n",
       "      <td>2</td>\n",
       "      <td>0</td>\n",
       "      <td>2016-01-01</td>\n",
       "      <td>0.0</td>\n",
       "    </tr>\n",
       "    <tr>\n",
       "      <th>3</th>\n",
       "      <td>3</td>\n",
       "      <td>0</td>\n",
       "      <td>2016-01-01</td>\n",
       "      <td>0.0</td>\n",
       "    </tr>\n",
       "    <tr>\n",
       "      <th>4</th>\n",
       "      <td>4</td>\n",
       "      <td>0</td>\n",
       "      <td>2016-01-01</td>\n",
       "      <td>0.0</td>\n",
       "    </tr>\n",
       "  </tbody>\n",
       "</table>\n",
       "</div>"
      ],
      "text/plain": [
       "   building_id  meter  timestamp  meter_reading\n",
       "0            0      0 2016-01-01            0.0\n",
       "1            1      0 2016-01-01            0.0\n",
       "2            2      0 2016-01-01            0.0\n",
       "3            3      0 2016-01-01            0.0\n",
       "4            4      0 2016-01-01            0.0"
      ]
     },
     "execution_count": 13,
     "metadata": {},
     "output_type": "execute_result"
    }
   ],
   "source": [
    "file_name = 'train.csv'\n",
    "train_df = pd.read_csv(file_name)\n",
    "#the train dataset contains a 'timestamp' column we convert to a datetime object for ease of use\n",
    "train_df['timestamp'] = pd.to_datetime(train_df['timestamp']) \n",
    "train_df.head()"
   ]
  },
  {
   "cell_type": "code",
   "execution_count": null,
   "id": "promising-header",
   "metadata": {
    "id": "promising-header",
    "outputId": "1cf814b8-757e-48e5-9173-0f0274659767"
   },
   "outputs": [
    {
     "name": "stdout",
     "output_type": "stream",
     "text": [
      "<class 'pandas.core.frame.DataFrame'>\n",
      "RangeIndex: 20216100 entries, 0 to 20216099\n",
      "Data columns (total 4 columns):\n",
      " #   Column         Dtype         \n",
      "---  ------         -----         \n",
      " 0   building_id    int64         \n",
      " 1   meter          int64         \n",
      " 2   timestamp      datetime64[ns]\n",
      " 3   meter_reading  float64       \n",
      "dtypes: datetime64[ns](1), float64(1), int64(2)\n",
      "memory usage: 616.9 MB\n"
     ]
    }
   ],
   "source": [
    "#summary of a train data\n",
    "train_df.info()"
   ]
  },
  {
   "cell_type": "code",
   "execution_count": null,
   "id": "dynamic-anaheim",
   "metadata": {
    "id": "dynamic-anaheim",
    "outputId": "64b7a8d7-b08e-4d3f-eb2c-f8ed28197c67"
   },
   "outputs": [
    {
     "data": {
      "text/plain": [
       "building_id      0\n",
       "meter            0\n",
       "timestamp        0\n",
       "meter_reading    0\n",
       "dtype: int64"
      ]
     },
     "execution_count": 15,
     "metadata": {},
     "output_type": "execute_result"
    }
   ],
   "source": [
    "#the sum of the null values \n",
    "train_df.isna().sum()"
   ]
  },
  {
   "cell_type": "code",
   "execution_count": null,
   "id": "blind-webcam",
   "metadata": {
    "id": "blind-webcam",
    "outputId": "851364b8-b8d1-4cf3-e17d-7024069b5835"
   },
   "outputs": [
    {
     "name": "stdout",
     "output_type": "stream",
     "text": [
      "(20216100, 4)\n"
     ]
    }
   ],
   "source": [
    "# dimensionality of the train data.\n",
    "print(train_df.shape)"
   ]
  },
  {
   "cell_type": "code",
   "execution_count": null,
   "id": "confirmed-lesbian",
   "metadata": {
    "id": "confirmed-lesbian",
    "outputId": "e8455f67-334b-4769-f00b-e277028beda0"
   },
   "outputs": [
    {
     "data": {
      "text/html": [
       "<div>\n",
       "<style scoped>\n",
       "    .dataframe tbody tr th:only-of-type {\n",
       "        vertical-align: middle;\n",
       "    }\n",
       "\n",
       "    .dataframe tbody tr th {\n",
       "        vertical-align: top;\n",
       "    }\n",
       "\n",
       "    .dataframe thead th {\n",
       "        text-align: right;\n",
       "    }\n",
       "</style>\n",
       "<table border=\"1\" class=\"dataframe\">\n",
       "  <thead>\n",
       "    <tr style=\"text-align: right;\">\n",
       "      <th></th>\n",
       "      <th>building_id</th>\n",
       "      <th>meter</th>\n",
       "      <th>meter_reading</th>\n",
       "    </tr>\n",
       "  </thead>\n",
       "  <tbody>\n",
       "    <tr>\n",
       "      <th>count</th>\n",
       "      <td>2.021610e+07</td>\n",
       "      <td>2.021610e+07</td>\n",
       "      <td>2.021610e+07</td>\n",
       "    </tr>\n",
       "    <tr>\n",
       "      <th>mean</th>\n",
       "      <td>7.992780e+02</td>\n",
       "      <td>6.624412e-01</td>\n",
       "      <td>2.117121e+03</td>\n",
       "    </tr>\n",
       "    <tr>\n",
       "      <th>std</th>\n",
       "      <td>4.269133e+02</td>\n",
       "      <td>9.309921e-01</td>\n",
       "      <td>1.532356e+05</td>\n",
       "    </tr>\n",
       "    <tr>\n",
       "      <th>min</th>\n",
       "      <td>0.000000e+00</td>\n",
       "      <td>0.000000e+00</td>\n",
       "      <td>0.000000e+00</td>\n",
       "    </tr>\n",
       "    <tr>\n",
       "      <th>25%</th>\n",
       "      <td>3.930000e+02</td>\n",
       "      <td>0.000000e+00</td>\n",
       "      <td>1.830000e+01</td>\n",
       "    </tr>\n",
       "    <tr>\n",
       "      <th>50%</th>\n",
       "      <td>8.950000e+02</td>\n",
       "      <td>0.000000e+00</td>\n",
       "      <td>7.877500e+01</td>\n",
       "    </tr>\n",
       "    <tr>\n",
       "      <th>75%</th>\n",
       "      <td>1.179000e+03</td>\n",
       "      <td>1.000000e+00</td>\n",
       "      <td>2.679840e+02</td>\n",
       "    </tr>\n",
       "    <tr>\n",
       "      <th>max</th>\n",
       "      <td>1.448000e+03</td>\n",
       "      <td>3.000000e+00</td>\n",
       "      <td>2.190470e+07</td>\n",
       "    </tr>\n",
       "  </tbody>\n",
       "</table>\n",
       "</div>"
      ],
      "text/plain": [
       "        building_id         meter  meter_reading\n",
       "count  2.021610e+07  2.021610e+07   2.021610e+07\n",
       "mean   7.992780e+02  6.624412e-01   2.117121e+03\n",
       "std    4.269133e+02  9.309921e-01   1.532356e+05\n",
       "min    0.000000e+00  0.000000e+00   0.000000e+00\n",
       "25%    3.930000e+02  0.000000e+00   1.830000e+01\n",
       "50%    8.950000e+02  0.000000e+00   7.877500e+01\n",
       "75%    1.179000e+03  1.000000e+00   2.679840e+02\n",
       "max    1.448000e+03  3.000000e+00   2.190470e+07"
      ]
     },
     "execution_count": 17,
     "metadata": {},
     "output_type": "execute_result"
    }
   ],
   "source": [
    "# statistical details about train data\n",
    "train_df.describe()"
   ]
  },
  {
   "cell_type": "code",
   "execution_count": null,
   "id": "headed-conservation",
   "metadata": {
    "id": "headed-conservation",
    "outputId": "94ba463a-be85-4a00-d78a-ede052d3da9b"
   },
   "outputs": [
    {
     "name": "stdout",
     "output_type": "stream",
     "text": [
      "2016-01-01 00:00:00\n",
      "2016-12-31 23:00:00\n"
     ]
    }
   ],
   "source": [
    "print(train_df[\"timestamp\"].min() , train_df[\"timestamp\"].max(),sep =\"\\n\")"
   ]
  },
  {
   "cell_type": "code",
   "execution_count": null,
   "id": "gothic-republican",
   "metadata": {
    "id": "gothic-republican",
    "outputId": "270d0df1-50f5-4a51-c5d3-70cbfefb47ec"
   },
   "outputs": [
    {
     "data": {
      "text/plain": [
       "count    2.021610e+07\n",
       "mean     2.117121e+03\n",
       "std      1.532356e+05\n",
       "min      0.000000e+00\n",
       "25%      1.830000e+01\n",
       "50%      7.877500e+01\n",
       "75%      2.679840e+02\n",
       "max      2.190470e+07\n",
       "Name: meter_reading, dtype: float64"
      ]
     },
     "execution_count": 19,
     "metadata": {},
     "output_type": "execute_result"
    }
   ],
   "source": [
    "# statistical details about meter_reading\n",
    "train_df['meter_reading'].describe()"
   ]
  },
  {
   "cell_type": "code",
   "execution_count": null,
   "id": "demanding-thread",
   "metadata": {
    "id": "demanding-thread",
    "outputId": "73394ad2-bf54-4ed0-977d-bfa5084d9a50"
   },
   "outputs": [
    {
     "name": "stdout",
     "output_type": "stream",
     "text": [
      "Zero reading percentile : 0.093\n"
     ]
    }
   ],
   "source": [
    "zeros = train_df[train_df['meter_reading']== 0].shape[0] / train_df.shape[0]\n",
    "print('Zero reading percentile : {}'.format(round(zeros,3)))"
   ]
  },
  {
   "cell_type": "markdown",
   "id": "separated-sigma",
   "metadata": {
    "id": "separated-sigma"
   },
   "source": [
    "The reading value is zero in 9% of the time. We know that some buildings have many meter types, thus we may assume that using seasonal energy meters will result in zeros. We don't need to use cooled water on chilly days, to be more specific. Similarly, hot water use might vary from time to time. Those data, however, might be absent because no energy usage makes no sense!"
   ]
  },
  {
   "cell_type": "code",
   "execution_count": null,
   "id": "laden-croatia",
   "metadata": {
    "id": "laden-croatia"
   },
   "outputs": [],
   "source": [
    "#converting the meters to what they stand for \n",
    "train_df['meter'].replace({0:\"electricity\",1:\"chilledwater\",2:\"steam\",3:\"hotwater\"},inplace=True)"
   ]
  },
  {
   "cell_type": "code",
   "execution_count": null,
   "id": "anticipated-funds",
   "metadata": {
    "id": "anticipated-funds",
    "outputId": "b1927cf0-798d-4296-e77f-bc965810f1f0"
   },
   "outputs": [
    {
     "data": {
      "text/plain": [
       "Text(0.5, 1.0, 'Meters percentage having zero readings')"
      ]
     },
     "execution_count": 23,
     "metadata": {},
     "output_type": "execute_result"
    },
    {
     "data": {
      "image/png": "[encoded data removed]",
      "text/plain": [
       "<Figure size 432x288 with 1 Axes>"
      ]
     },
     "metadata": {
      "needs_background": "light"
     },
     "output_type": "display_data"
    }
   ],
   "source": [
    "# to show the precentage of meters that having zeroes \n",
    "meter_dict = {}\n",
    "for i in train_df[\"meter\"].unique():\n",
    "    percent = round(train_df[train_df['meter_reading']== 0][\"meter\"].value_counts()[i] /train_df[\"meter\"].value_counts()[i],2)\n",
    "    meter_dict[i] = percent\n",
    "zero_meter = pd.Series(meter_dict)\n",
    "sb.barplot(x=zero_meter.index, y= zero_meter,palette =\"Set2\")\n",
    "plt.title(\"Meters percentage having zero readings\")"
   ]
  },
  {
   "cell_type": "code",
   "execution_count": null,
   "id": "running-pepper",
   "metadata": {
    "id": "running-pepper"
   },
   "outputs": [],
   "source": [
    "train_df[\"month\"] = train_df.timestamp.dt.month"
   ]
  },
  {
   "cell_type": "code",
   "execution_count": null,
   "id": "parallel-sequence",
   "metadata": {
    "id": "parallel-sequence",
    "outputId": "9ac494d3-26c2-4815-dc86-72f93cff919e"
   },
   "outputs": [
    {
     "data": {
      "text/plain": [
       "Text(0.5, 1.0, 'For hot water')"
      ]
     },
     "execution_count": 73,
     "metadata": {},
     "output_type": "execute_result"
    },
    {
     "data": {
      "image/png": "[encoded data removed]",
      "text/plain": [
       "<Figure size 720x432 with 4 Axes>"
      ]
     },
     "metadata": {
      "needs_background": "light"
     },
     "output_type": "display_data"
    }
   ],
   "source": [
    "fig, axs = plt.subplots(2,2, sharey=True, tight_layout=True,figsize=(10,6))\n",
    "\n",
    "axs[0][0].hist(x =\"month\",data =train_df[(train_df.meter_reading == 0) & (train_df.meter==\"electricity\")],bins =12,color = \"navajowhite\")\n",
    "axs[0][0].set_title(\"For electricity\")\n",
    "\n",
    "axs[0][1].hist(x =\"month\",data =train_df[(train_df.meter_reading == 0) & (train_df.meter==\"chilledwater\")],bins =12,color = \"skyblue\")\n",
    "axs[0][1].set_title(\"For chilled water\")\n",
    "\n",
    "axs[1][0].hist(x =\"month\",data =train_df[(train_df.meter_reading == 0) & (train_df.meter==\"steam\")],bins =12,color = \"slategrey\")\n",
    "axs[1][0].set_title(\"For steam\")\n",
    "\n",
    "axs[1][1].hist(x =\"month\",data =train_df[(train_df.meter_reading == 0) & (train_df.meter==\"hotwater\")],bins =12,color = \"lightcoral\")\n",
    "axs[1][1].set_title(\"For hot water\")"
   ]
  },
  {
   "cell_type": "markdown",
   "id": "ideal-delight",
   "metadata": {
    "id": "ideal-delight"
   },
   "source": [
    "As seen in the graphs, zero readings vary with time and meter type. The first five months of the year have witnessed electricity meter zeros. The number of zero readings decreases as the month progresses. Seasonal variations in chilled and hot water zeros can be found. The distribution of zeros in steam and hot water is remarkably similar."
   ]
  },
  {
   "cell_type": "code",
   "execution_count": null,
   "id": "empirical-oasis",
   "metadata": {
    "id": "empirical-oasis"
   },
   "outputs": [],
   "source": [
    "# Function for remove Outlier\n",
    "def removeOutliers(data, outlierConstant = 1.5):\n",
    "    values = np.array(data)\n",
    "    upper_quartile = np.percentile(values, 75)\n",
    "    lower_quartile = np.percentile(values, 25)\n",
    "    IQR = (upper_quartile - lower_quartile) * outlierConstant\n",
    "    quartile = (lower_quartile - IQR, upper_quartile + IQR)\n",
    "    results = []\n",
    "    for i in values.tolist():\n",
    "        if i >= quartile[0] and i <= quartile[1]:\n",
    "            results.append(i)\n",
    "    return results"
   ]
  },
  {
   "cell_type": "code",
   "execution_count": null,
   "id": "serious-thomson",
   "metadata": {
    "id": "serious-thomson"
   },
   "outputs": [],
   "source": [
    "target_noOutlier = removeOutliers(train_df.meter_reading)"
   ]
  },
  {
   "cell_type": "code",
   "execution_count": null,
   "id": "postal-musician",
   "metadata": {
    "id": "postal-musician",
    "outputId": "cef1ba4c-ddd4-4c6a-acce-ef0cb46f1f76"
   },
   "outputs": [
    {
     "name": "stderr",
     "output_type": "stream",
     "text": [
      "C:\\Users\\USER\\anaconda3\\lib\\site-packages\\seaborn\\distributions.py:2557: FutureWarning: `distplot` is a deprecated function and will be removed in a future version. Please adapt your code to use either `displot` (a figure-level function with similar flexibility) or `kdeplot` (an axes-level function for kernel density plots).\n",
      "  warnings.warn(msg, FutureWarning)\n",
      "C:\\Users\\USER\\anaconda3\\lib\\site-packages\\seaborn\\distributions.py:2557: FutureWarning: `distplot` is a deprecated function and will be removed in a future version. Please adapt your code to use either `displot` (a figure-level function with similar flexibility) or `histplot` (an axes-level function for histograms).\n",
      "  warnings.warn(msg, FutureWarning)\n",
      "C:\\Users\\USER\\anaconda3\\lib\\site-packages\\seaborn\\distributions.py:2557: FutureWarning: `distplot` is a deprecated function and will be removed in a future version. Please adapt your code to use either `displot` (a figure-level function with similar flexibility) or `histplot` (an axes-level function for histograms).\n",
      "  warnings.warn(msg, FutureWarning)\n"
     ]
    },
    {
     "data": {
      "text/plain": [
       "Text(0.5, 1.0, 'Target with Log Transform')"
      ]
     },
     "execution_count": 76,
     "metadata": {},
     "output_type": "execute_result"
    },
    {
     "data": {
      "image/png": "[encoded data removed]",
      "text/plain": [
       "<Figure size 864x360 with 3 Axes>"
      ]
     },
     "metadata": {
      "needs_background": "light"
     },
     "output_type": "display_data"
    }
   ],
   "source": [
    "fig, axes = plt.subplots(1, 3,figsize=(12,5))\n",
    "\n",
    "sb.distplot(train_df.meter_reading,hist = False,ax = axes[0])\n",
    "axes[0].set_title(\"Target distribution\")\n",
    "\n",
    "sb.distplot(target_noOutlier,ax=axes[1])\n",
    "axes[1].set_title(\"Target distribution without outlier\")\n",
    "\n",
    "sb.distplot(np.log1p(train_df.meter_reading),ax = axes[2])\n",
    "axes[2].set_title(\"Target with Log Transform\")"
   ]
  },
  {
   "cell_type": "code",
   "execution_count": null,
   "id": "expressed-wheat",
   "metadata": {
    "id": "expressed-wheat"
   },
   "outputs": [],
   "source": [
    "train_df['meter_reading_log'] = np.log1p(train_df['meter_reading'])"
   ]
  },
  {
   "cell_type": "markdown",
   "id": "possible-alert",
   "metadata": {
    "id": "possible-alert"
   },
   "source": [
    "The meter reading variable is highly right-skewed, with a large number of zeros. A skewed distribution is transformed into a more normalized dataset via logarithmic transformation. We have outliers in addition to zeros readings!"
   ]
  },
  {
   "cell_type": "code",
   "execution_count": null,
   "id": "standard-cooler",
   "metadata": {
    "id": "standard-cooler",
    "outputId": "310cc0c1-bc31-4635-c3cc-3625a668102a"
   },
   "outputs": [
    {
     "data": {
      "text/plain": [
       "<AxesSubplot:xlabel='meter', ylabel='count'>"
      ]
     },
     "execution_count": 27,
     "metadata": {},
     "output_type": "execute_result"
    },
    {
     "data": {
      "image/png": "[encoded data removed]",
      "text/plain": [
       "<Figure size 432x288 with 1 Axes>"
      ]
     },
     "metadata": {
      "needs_background": "light"
     },
     "output_type": "display_data"
    }
   ],
   "source": [
    "sb.countplot(x= \"meter\",data = train_df,color = 'b')"
   ]
  },
  {
   "cell_type": "code",
   "execution_count": null,
   "id": "oriental-buffalo",
   "metadata": {
    "id": "oriental-buffalo",
    "outputId": "a3b13243-e0c4-4e3f-a312-7cad4f46a932"
   },
   "outputs": [
    {
     "data": {
      "text/plain": [
       "<matplotlib.legend.Legend at 0x1b21db04ee0>"
      ]
     },
     "execution_count": 79,
     "metadata": {},
     "output_type": "execute_result"
    },
    {
     "data": {
      "image/png": "[encoded data removed]",
      "text/plain": [
       "<Figure size 432x288 with 1 Axes>"
      ]
     },
     "metadata": {
      "needs_background": "light"
     },
     "output_type": "display_data"
    }
   ],
   "source": [
    "#Graphs shows distribution meter_reading in each meter category\n",
    "\n",
    "sb.kdeplot(train_df.loc[(train_df['meter']=='electricity'), \n",
    "            \"meter_reading_log\"], color='yellow', shade=False, label='electricity')\n",
    "\n",
    "sb.kdeplot(train_df.loc[(train_df['meter']=='chilledwater'), \n",
    "            \"meter_reading_log\"], color='b', shade=False, label='chilledwater')\n",
    "\n",
    "sb.kdeplot(train_df.loc[(train_df['meter']=='steam'), \n",
    "            \"meter_reading_log\"], color='gray', shade=False, label='steam')\n",
    "\n",
    "sb.kdeplot(train_df.loc[(train_df['meter']=='hotwater'), \n",
    "            \"meter_reading_log\"], color='r', shade=False, label='hotwater')\n",
    "\n",
    "plt.xlabel('meter_reading_log') \n",
    "plt.ylabel('Probability Density')\n",
    "plt.legend()"
   ]
  },
  {
   "cell_type": "code",
   "execution_count": null,
   "id": "plain-progress",
   "metadata": {
    "id": "plain-progress",
    "outputId": "1f9740cb-37d5-4d2d-d3e6-16d516f1e0f0"
   },
   "outputs": [
    {
     "data": {
      "text/html": [
       "<div>\n",
       "<style scoped>\n",
       "    .dataframe tbody tr th:only-of-type {\n",
       "        vertical-align: middle;\n",
       "    }\n",
       "\n",
       "    .dataframe tbody tr th {\n",
       "        vertical-align: top;\n",
       "    }\n",
       "\n",
       "    .dataframe thead th {\n",
       "        text-align: right;\n",
       "    }\n",
       "</style>\n",
       "<table border=\"1\" class=\"dataframe\">\n",
       "  <thead>\n",
       "    <tr style=\"text-align: right;\">\n",
       "      <th></th>\n",
       "      <th>building_id</th>\n",
       "      <th>meter</th>\n",
       "      <th>timestamp</th>\n",
       "      <th>meter_reading</th>\n",
       "      <th>month</th>\n",
       "      <th>meter_reading_log</th>\n",
       "    </tr>\n",
       "  </thead>\n",
       "  <tbody>\n",
       "    <tr>\n",
       "      <th>15876843</th>\n",
       "      <td>454</td>\n",
       "      <td>electricity</td>\n",
       "      <td>2016-10-15 13:00:00</td>\n",
       "      <td>54.3800</td>\n",
       "      <td>10</td>\n",
       "      <td>4.014219</td>\n",
       "    </tr>\n",
       "    <tr>\n",
       "      <th>6588112</th>\n",
       "      <td>675</td>\n",
       "      <td>electricity</td>\n",
       "      <td>2016-05-03 04:00:00</td>\n",
       "      <td>54.2000</td>\n",
       "      <td>5</td>\n",
       "      <td>4.010963</td>\n",
       "    </tr>\n",
       "    <tr>\n",
       "      <th>3543544</th>\n",
       "      <td>318</td>\n",
       "      <td>electricity</td>\n",
       "      <td>2016-03-07 18:00:00</td>\n",
       "      <td>185.8300</td>\n",
       "      <td>3</td>\n",
       "      <td>5.230199</td>\n",
       "    </tr>\n",
       "    <tr>\n",
       "      <th>2771323</th>\n",
       "      <td>1249</td>\n",
       "      <td>steam</td>\n",
       "      <td>2016-02-21 07:00:00</td>\n",
       "      <td>899.6400</td>\n",
       "      <td>2</td>\n",
       "      <td>6.803106</td>\n",
       "    </tr>\n",
       "    <tr>\n",
       "      <th>18766432</th>\n",
       "      <td>980</td>\n",
       "      <td>chilledwater</td>\n",
       "      <td>2016-12-06 09:00:00</td>\n",
       "      <td>25.5323</td>\n",
       "      <td>12</td>\n",
       "      <td>3.278363</td>\n",
       "    </tr>\n",
       "    <tr>\n",
       "      <th>...</th>\n",
       "      <td>...</td>\n",
       "      <td>...</td>\n",
       "      <td>...</td>\n",
       "      <td>...</td>\n",
       "      <td>...</td>\n",
       "      <td>...</td>\n",
       "    </tr>\n",
       "    <tr>\n",
       "      <th>7711248</th>\n",
       "      <td>831</td>\n",
       "      <td>electricity</td>\n",
       "      <td>2016-05-23 03:00:00</td>\n",
       "      <td>21.5417</td>\n",
       "      <td>5</td>\n",
       "      <td>3.115367</td>\n",
       "    </tr>\n",
       "    <tr>\n",
       "      <th>1029461</th>\n",
       "      <td>1017</td>\n",
       "      <td>chilledwater</td>\n",
       "      <td>2016-01-19 16:00:00</td>\n",
       "      <td>0.0000</td>\n",
       "      <td>1</td>\n",
       "      <td>0.000000</td>\n",
       "    </tr>\n",
       "    <tr>\n",
       "      <th>11273459</th>\n",
       "      <td>88</td>\n",
       "      <td>electricity</td>\n",
       "      <td>2016-07-25 11:00:00</td>\n",
       "      <td>750.1340</td>\n",
       "      <td>7</td>\n",
       "      <td>6.621584</td>\n",
       "    </tr>\n",
       "    <tr>\n",
       "      <th>16151994</th>\n",
       "      <td>1095</td>\n",
       "      <td>electricity</td>\n",
       "      <td>2016-10-20 10:00:00</td>\n",
       "      <td>71.3670</td>\n",
       "      <td>10</td>\n",
       "      <td>4.281750</td>\n",
       "    </tr>\n",
       "    <tr>\n",
       "      <th>11665857</th>\n",
       "      <td>506</td>\n",
       "      <td>electricity</td>\n",
       "      <td>2016-08-01 12:00:00</td>\n",
       "      <td>393.2900</td>\n",
       "      <td>8</td>\n",
       "      <td>5.977087</td>\n",
       "    </tr>\n",
       "  </tbody>\n",
       "</table>\n",
       "<p>15162075 rows × 6 columns</p>\n",
       "</div>"
      ],
      "text/plain": [
       "          building_id         meter           timestamp  meter_reading  month  \\\n",
       "15876843          454   electricity 2016-10-15 13:00:00        54.3800     10   \n",
       "6588112           675   electricity 2016-05-03 04:00:00        54.2000      5   \n",
       "3543544           318   electricity 2016-03-07 18:00:00       185.8300      3   \n",
       "2771323          1249         steam 2016-02-21 07:00:00       899.6400      2   \n",
       "18766432          980  chilledwater 2016-12-06 09:00:00        25.5323     12   \n",
       "...               ...           ...                 ...            ...    ...   \n",
       "7711248           831   electricity 2016-05-23 03:00:00        21.5417      5   \n",
       "1029461          1017  chilledwater 2016-01-19 16:00:00         0.0000      1   \n",
       "11273459           88   electricity 2016-07-25 11:00:00       750.1340      7   \n",
       "16151994         1095   electricity 2016-10-20 10:00:00        71.3670     10   \n",
       "11665857          506   electricity 2016-08-01 12:00:00       393.2900      8   \n",
       "\n",
       "          meter_reading_log  \n",
       "15876843           4.014219  \n",
       "6588112            4.010963  \n",
       "3543544            5.230199  \n",
       "2771323            6.803106  \n",
       "18766432           3.278363  \n",
       "...                     ...  \n",
       "7711248            3.115367  \n",
       "1029461            0.000000  \n",
       "11273459           6.621584  \n",
       "16151994           4.281750  \n",
       "11665857           5.977087  \n",
       "\n",
       "[15162075 rows x 6 columns]"
      ]
     },
     "execution_count": 77,
     "metadata": {},
     "output_type": "execute_result"
    }
   ],
   "source": [
    "#sample data\n",
    "sample_train_df = train_df.sample(frac =.75)\n",
    "sample_train_df"
   ]
  },
  {
   "cell_type": "code",
   "execution_count": null,
   "id": "horizontal-christianity",
   "metadata": {
    "id": "horizontal-christianity",
    "outputId": "3f7c176a-a3d0-480f-ca55-945e52784cfe"
   },
   "outputs": [
    {
     "data": {
      "text/html": [
       "<div>\n",
       "<style scoped>\n",
       "    .dataframe tbody tr th:only-of-type {\n",
       "        vertical-align: middle;\n",
       "    }\n",
       "\n",
       "    .dataframe tbody tr th {\n",
       "        vertical-align: top;\n",
       "    }\n",
       "\n",
       "    .dataframe thead th {\n",
       "        text-align: right;\n",
       "    }\n",
       "</style>\n",
       "<table border=\"1\" class=\"dataframe\">\n",
       "  <thead>\n",
       "    <tr style=\"text-align: right;\">\n",
       "      <th></th>\n",
       "      <th></th>\n",
       "      <th></th>\n",
       "      <th>timestamp</th>\n",
       "      <th>meter_reading</th>\n",
       "      <th>meter_reading_log</th>\n",
       "    </tr>\n",
       "    <tr>\n",
       "      <th>building_id</th>\n",
       "      <th>meter</th>\n",
       "      <th>month</th>\n",
       "      <th></th>\n",
       "      <th></th>\n",
       "      <th></th>\n",
       "    </tr>\n",
       "  </thead>\n",
       "  <tbody>\n",
       "    <tr>\n",
       "      <th rowspan=\"5\" valign=\"top\">0</th>\n",
       "      <th rowspan=\"5\" valign=\"top\">electricity</th>\n",
       "      <th>1</th>\n",
       "      <td>547</td>\n",
       "      <td>547</td>\n",
       "      <td>547</td>\n",
       "    </tr>\n",
       "    <tr>\n",
       "      <th>2</th>\n",
       "      <td>528</td>\n",
       "      <td>528</td>\n",
       "      <td>528</td>\n",
       "    </tr>\n",
       "    <tr>\n",
       "      <th>3</th>\n",
       "      <td>549</td>\n",
       "      <td>549</td>\n",
       "      <td>549</td>\n",
       "    </tr>\n",
       "    <tr>\n",
       "      <th>4</th>\n",
       "      <td>547</td>\n",
       "      <td>547</td>\n",
       "      <td>547</td>\n",
       "    </tr>\n",
       "    <tr>\n",
       "      <th>5</th>\n",
       "      <td>560</td>\n",
       "      <td>560</td>\n",
       "      <td>560</td>\n",
       "    </tr>\n",
       "    <tr>\n",
       "      <th>...</th>\n",
       "      <th>...</th>\n",
       "      <th>...</th>\n",
       "      <td>...</td>\n",
       "      <td>...</td>\n",
       "      <td>...</td>\n",
       "    </tr>\n",
       "    <tr>\n",
       "      <th rowspan=\"5\" valign=\"top\">1448</th>\n",
       "      <th rowspan=\"5\" valign=\"top\">electricity</th>\n",
       "      <th>8</th>\n",
       "      <td>556</td>\n",
       "      <td>556</td>\n",
       "      <td>556</td>\n",
       "    </tr>\n",
       "    <tr>\n",
       "      <th>9</th>\n",
       "      <td>545</td>\n",
       "      <td>545</td>\n",
       "      <td>545</td>\n",
       "    </tr>\n",
       "    <tr>\n",
       "      <th>10</th>\n",
       "      <td>516</td>\n",
       "      <td>516</td>\n",
       "      <td>516</td>\n",
       "    </tr>\n",
       "    <tr>\n",
       "      <th>11</th>\n",
       "      <td>528</td>\n",
       "      <td>528</td>\n",
       "      <td>528</td>\n",
       "    </tr>\n",
       "    <tr>\n",
       "      <th>12</th>\n",
       "      <td>478</td>\n",
       "      <td>478</td>\n",
       "      <td>478</td>\n",
       "    </tr>\n",
       "  </tbody>\n",
       "</table>\n",
       "<p>28332 rows × 3 columns</p>\n",
       "</div>"
      ],
      "text/plain": [
       "                               timestamp  meter_reading  meter_reading_log\n",
       "building_id meter       month                                             \n",
       "0           electricity 1            547            547                547\n",
       "                        2            528            528                528\n",
       "                        3            549            549                549\n",
       "                        4            547            547                547\n",
       "                        5            560            560                560\n",
       "...                                  ...            ...                ...\n",
       "1448        electricity 8            556            556                556\n",
       "                        9            545            545                545\n",
       "                        10           516            516                516\n",
       "                        11           528            528                528\n",
       "                        12           478            478                478\n",
       "\n",
       "[28332 rows x 3 columns]"
      ]
     },
     "execution_count": 78,
     "metadata": {},
     "output_type": "execute_result"
    }
   ],
   "source": [
    "sample_train_df.groupby(['building_id', 'meter', 'month']).count()"
   ]
  },
  {
   "cell_type": "code",
   "execution_count": null,
   "id": "legendary-hardware",
   "metadata": {
    "id": "legendary-hardware",
    "outputId": "a46ee10a-0fa3-46c7-84ea-6b6c251e358b"
   },
   "outputs": [
    {
     "data": {
      "text/html": [
       "<div>\n",
       "<style scoped>\n",
       "    .dataframe tbody tr th:only-of-type {\n",
       "        vertical-align: middle;\n",
       "    }\n",
       "\n",
       "    .dataframe tbody tr th {\n",
       "        vertical-align: top;\n",
       "    }\n",
       "\n",
       "    .dataframe thead th {\n",
       "        text-align: right;\n",
       "    }\n",
       "</style>\n",
       "<table border=\"1\" class=\"dataframe\">\n",
       "  <thead>\n",
       "    <tr style=\"text-align: right;\">\n",
       "      <th></th>\n",
       "      <th>building_id</th>\n",
       "      <th>meter</th>\n",
       "      <th>month</th>\n",
       "      <th>meter_reading</th>\n",
       "      <th>meter_reading_log</th>\n",
       "    </tr>\n",
       "  </thead>\n",
       "  <tbody>\n",
       "    <tr>\n",
       "      <th>0</th>\n",
       "      <td>0</td>\n",
       "      <td>electricity</td>\n",
       "      <td>1</td>\n",
       "      <td>0.148491</td>\n",
       "      <td>0.013622</td>\n",
       "    </tr>\n",
       "    <tr>\n",
       "      <th>1</th>\n",
       "      <td>0</td>\n",
       "      <td>electricity</td>\n",
       "      <td>2</td>\n",
       "      <td>0.000000</td>\n",
       "      <td>0.000000</td>\n",
       "    </tr>\n",
       "    <tr>\n",
       "      <th>2</th>\n",
       "      <td>0</td>\n",
       "      <td>electricity</td>\n",
       "      <td>3</td>\n",
       "      <td>0.000000</td>\n",
       "      <td>0.000000</td>\n",
       "    </tr>\n",
       "    <tr>\n",
       "      <th>3</th>\n",
       "      <td>0</td>\n",
       "      <td>electricity</td>\n",
       "      <td>4</td>\n",
       "      <td>0.108561</td>\n",
       "      <td>0.007497</td>\n",
       "    </tr>\n",
       "    <tr>\n",
       "      <th>4</th>\n",
       "      <td>0</td>\n",
       "      <td>electricity</td>\n",
       "      <td>5</td>\n",
       "      <td>80.676614</td>\n",
       "      <td>2.008154</td>\n",
       "    </tr>\n",
       "    <tr>\n",
       "      <th>...</th>\n",
       "      <td>...</td>\n",
       "      <td>...</td>\n",
       "      <td>...</td>\n",
       "      <td>...</td>\n",
       "      <td>...</td>\n",
       "    </tr>\n",
       "    <tr>\n",
       "      <th>28327</th>\n",
       "      <td>1448</td>\n",
       "      <td>electricity</td>\n",
       "      <td>8</td>\n",
       "      <td>3.328552</td>\n",
       "      <td>1.452034</td>\n",
       "    </tr>\n",
       "    <tr>\n",
       "      <th>28328</th>\n",
       "      <td>1448</td>\n",
       "      <td>electricity</td>\n",
       "      <td>9</td>\n",
       "      <td>3.216560</td>\n",
       "      <td>1.425956</td>\n",
       "    </tr>\n",
       "    <tr>\n",
       "      <th>28329</th>\n",
       "      <td>1448</td>\n",
       "      <td>electricity</td>\n",
       "      <td>10</td>\n",
       "      <td>3.307445</td>\n",
       "      <td>1.448195</td>\n",
       "    </tr>\n",
       "    <tr>\n",
       "      <th>28330</th>\n",
       "      <td>1448</td>\n",
       "      <td>electricity</td>\n",
       "      <td>11</td>\n",
       "      <td>3.430587</td>\n",
       "      <td>1.477658</td>\n",
       "    </tr>\n",
       "    <tr>\n",
       "      <th>28331</th>\n",
       "      <td>1448</td>\n",
       "      <td>electricity</td>\n",
       "      <td>12</td>\n",
       "      <td>3.617103</td>\n",
       "      <td>1.520908</td>\n",
       "    </tr>\n",
       "  </tbody>\n",
       "</table>\n",
       "<p>28332 rows × 5 columns</p>\n",
       "</div>"
      ],
      "text/plain": [
       "       building_id        meter  month  meter_reading  meter_reading_log\n",
       "0                0  electricity      1       0.148491           0.013622\n",
       "1                0  electricity      2       0.000000           0.000000\n",
       "2                0  electricity      3       0.000000           0.000000\n",
       "3                0  electricity      4       0.108561           0.007497\n",
       "4                0  electricity      5      80.676614           2.008154\n",
       "...            ...          ...    ...            ...                ...\n",
       "28327         1448  electricity      8       3.328552           1.452034\n",
       "28328         1448  electricity      9       3.216560           1.425956\n",
       "28329         1448  electricity     10       3.307445           1.448195\n",
       "28330         1448  electricity     11       3.430587           1.477658\n",
       "28331         1448  electricity     12       3.617103           1.520908\n",
       "\n",
       "[28332 rows x 5 columns]"
      ]
     },
     "execution_count": 79,
     "metadata": {},
     "output_type": "execute_result"
    }
   ],
   "source": [
    "sample_train_df = sample_train_df.groupby(['building_id', 'meter', 'month']).mean()\n",
    "sample_train_df = sample_train_df.reset_index()\n",
    "sample_train_df"
   ]
  },
  {
   "cell_type": "markdown",
   "id": "comparative-private",
   "metadata": {
    "id": "comparative-private"
   },
   "source": [
    "## Exploring \"weather_train.csv\" file"
   ]
  },
  {
   "cell_type": "code",
   "execution_count": null,
   "id": "nearby-constitutional",
   "metadata": {
    "id": "nearby-constitutional",
    "outputId": "578f41a7-3149-424c-d7fc-4f5916a05df6"
   },
   "outputs": [
    {
     "data": {
      "text/html": [
       "<div>\n",
       "<style scoped>\n",
       "    .dataframe tbody tr th:only-of-type {\n",
       "        vertical-align: middle;\n",
       "    }\n",
       "\n",
       "    .dataframe tbody tr th {\n",
       "        vertical-align: top;\n",
       "    }\n",
       "\n",
       "    .dataframe thead th {\n",
       "        text-align: right;\n",
       "    }\n",
       "</style>\n",
       "<table border=\"1\" class=\"dataframe\">\n",
       "  <thead>\n",
       "    <tr style=\"text-align: right;\">\n",
       "      <th></th>\n",
       "      <th>site_id</th>\n",
       "      <th>timestamp</th>\n",
       "      <th>air_temperature</th>\n",
       "      <th>cloud_coverage</th>\n",
       "      <th>dew_temperature</th>\n",
       "      <th>precip_depth_1_hr</th>\n",
       "      <th>sea_level_pressure</th>\n",
       "      <th>wind_direction</th>\n",
       "      <th>wind_speed</th>\n",
       "    </tr>\n",
       "  </thead>\n",
       "  <tbody>\n",
       "    <tr>\n",
       "      <th>0</th>\n",
       "      <td>0</td>\n",
       "      <td>2016-01-01 00:00:00</td>\n",
       "      <td>25.0</td>\n",
       "      <td>6.0</td>\n",
       "      <td>20.0</td>\n",
       "      <td>NaN</td>\n",
       "      <td>1019.7</td>\n",
       "      <td>0.0</td>\n",
       "      <td>0.0</td>\n",
       "    </tr>\n",
       "    <tr>\n",
       "      <th>1</th>\n",
       "      <td>0</td>\n",
       "      <td>2016-01-01 01:00:00</td>\n",
       "      <td>24.4</td>\n",
       "      <td>NaN</td>\n",
       "      <td>21.1</td>\n",
       "      <td>-1.0</td>\n",
       "      <td>1020.2</td>\n",
       "      <td>70.0</td>\n",
       "      <td>1.5</td>\n",
       "    </tr>\n",
       "    <tr>\n",
       "      <th>2</th>\n",
       "      <td>0</td>\n",
       "      <td>2016-01-01 02:00:00</td>\n",
       "      <td>22.8</td>\n",
       "      <td>2.0</td>\n",
       "      <td>21.1</td>\n",
       "      <td>0.0</td>\n",
       "      <td>1020.2</td>\n",
       "      <td>0.0</td>\n",
       "      <td>0.0</td>\n",
       "    </tr>\n",
       "    <tr>\n",
       "      <th>3</th>\n",
       "      <td>0</td>\n",
       "      <td>2016-01-01 03:00:00</td>\n",
       "      <td>21.1</td>\n",
       "      <td>2.0</td>\n",
       "      <td>20.6</td>\n",
       "      <td>0.0</td>\n",
       "      <td>1020.1</td>\n",
       "      <td>0.0</td>\n",
       "      <td>0.0</td>\n",
       "    </tr>\n",
       "    <tr>\n",
       "      <th>4</th>\n",
       "      <td>0</td>\n",
       "      <td>2016-01-01 04:00:00</td>\n",
       "      <td>20.0</td>\n",
       "      <td>2.0</td>\n",
       "      <td>20.0</td>\n",
       "      <td>-1.0</td>\n",
       "      <td>1020.0</td>\n",
       "      <td>250.0</td>\n",
       "      <td>2.6</td>\n",
       "    </tr>\n",
       "    <tr>\n",
       "      <th>...</th>\n",
       "      <td>...</td>\n",
       "      <td>...</td>\n",
       "      <td>...</td>\n",
       "      <td>...</td>\n",
       "      <td>...</td>\n",
       "      <td>...</td>\n",
       "      <td>...</td>\n",
       "      <td>...</td>\n",
       "      <td>...</td>\n",
       "    </tr>\n",
       "    <tr>\n",
       "      <th>139768</th>\n",
       "      <td>15</td>\n",
       "      <td>2016-12-31 19:00:00</td>\n",
       "      <td>3.0</td>\n",
       "      <td>NaN</td>\n",
       "      <td>-8.0</td>\n",
       "      <td>NaN</td>\n",
       "      <td>NaN</td>\n",
       "      <td>180.0</td>\n",
       "      <td>5.7</td>\n",
       "    </tr>\n",
       "    <tr>\n",
       "      <th>139769</th>\n",
       "      <td>15</td>\n",
       "      <td>2016-12-31 20:00:00</td>\n",
       "      <td>2.8</td>\n",
       "      <td>2.0</td>\n",
       "      <td>-8.9</td>\n",
       "      <td>NaN</td>\n",
       "      <td>1007.4</td>\n",
       "      <td>180.0</td>\n",
       "      <td>7.7</td>\n",
       "    </tr>\n",
       "    <tr>\n",
       "      <th>139770</th>\n",
       "      <td>15</td>\n",
       "      <td>2016-12-31 21:00:00</td>\n",
       "      <td>2.8</td>\n",
       "      <td>NaN</td>\n",
       "      <td>-7.2</td>\n",
       "      <td>NaN</td>\n",
       "      <td>1007.5</td>\n",
       "      <td>180.0</td>\n",
       "      <td>5.1</td>\n",
       "    </tr>\n",
       "    <tr>\n",
       "      <th>139771</th>\n",
       "      <td>15</td>\n",
       "      <td>2016-12-31 22:00:00</td>\n",
       "      <td>2.2</td>\n",
       "      <td>NaN</td>\n",
       "      <td>-6.7</td>\n",
       "      <td>NaN</td>\n",
       "      <td>1008.0</td>\n",
       "      <td>170.0</td>\n",
       "      <td>4.6</td>\n",
       "    </tr>\n",
       "    <tr>\n",
       "      <th>139772</th>\n",
       "      <td>15</td>\n",
       "      <td>2016-12-31 23:00:00</td>\n",
       "      <td>1.7</td>\n",
       "      <td>NaN</td>\n",
       "      <td>-5.6</td>\n",
       "      <td>-1.0</td>\n",
       "      <td>1008.5</td>\n",
       "      <td>180.0</td>\n",
       "      <td>8.8</td>\n",
       "    </tr>\n",
       "  </tbody>\n",
       "</table>\n",
       "<p>139773 rows × 9 columns</p>\n",
       "</div>"
      ],
      "text/plain": [
       "        site_id            timestamp  air_temperature  cloud_coverage  \\\n",
       "0             0  2016-01-01 00:00:00             25.0             6.0   \n",
       "1             0  2016-01-01 01:00:00             24.4             NaN   \n",
       "2             0  2016-01-01 02:00:00             22.8             2.0   \n",
       "3             0  2016-01-01 03:00:00             21.1             2.0   \n",
       "4             0  2016-01-01 04:00:00             20.0             2.0   \n",
       "...         ...                  ...              ...             ...   \n",
       "139768       15  2016-12-31 19:00:00              3.0             NaN   \n",
       "139769       15  2016-12-31 20:00:00              2.8             2.0   \n",
       "139770       15  2016-12-31 21:00:00              2.8             NaN   \n",
       "139771       15  2016-12-31 22:00:00              2.2             NaN   \n",
       "139772       15  2016-12-31 23:00:00              1.7             NaN   \n",
       "\n",
       "        dew_temperature  precip_depth_1_hr  sea_level_pressure  \\\n",
       "0                  20.0                NaN              1019.7   \n",
       "1                  21.1               -1.0              1020.2   \n",
       "2                  21.1                0.0              1020.2   \n",
       "3                  20.6                0.0              1020.1   \n",
       "4                  20.0               -1.0              1020.0   \n",
       "...                 ...                ...                 ...   \n",
       "139768             -8.0                NaN                 NaN   \n",
       "139769             -8.9                NaN              1007.4   \n",
       "139770             -7.2                NaN              1007.5   \n",
       "139771             -6.7                NaN              1008.0   \n",
       "139772             -5.6               -1.0              1008.5   \n",
       "\n",
       "        wind_direction  wind_speed  \n",
       "0                  0.0         0.0  \n",
       "1                 70.0         1.5  \n",
       "2                  0.0         0.0  \n",
       "3                  0.0         0.0  \n",
       "4                250.0         2.6  \n",
       "...                ...         ...  \n",
       "139768           180.0         5.7  \n",
       "139769           180.0         7.7  \n",
       "139770           180.0         5.1  \n",
       "139771           170.0         4.6  \n",
       "139772           180.0         8.8  \n",
       "\n",
       "[139773 rows x 9 columns]"
      ]
     },
     "execution_count": 42,
     "metadata": {},
     "output_type": "execute_result"
    }
   ],
   "source": [
    "file_name = 'weather_train.csv'\n",
    "weather_train_df = pd.read_csv(file_name)\n",
    "weather_train_df"
   ]
  },
  {
   "cell_type": "code",
   "execution_count": null,
   "id": "imposed-veteran",
   "metadata": {
    "id": "imposed-veteran"
   },
   "outputs": [],
   "source": [
    "weather_train_df['timestamp'] = pd.to_datetime(weather_train_df.timestamp, format='%Y-%m-%d')\n",
    "weather_train_df[\"month\"] = weather_train_df.timestamp.dt.month"
   ]
  },
  {
   "cell_type": "code",
   "execution_count": null,
   "id": "portable-marshall",
   "metadata": {
    "id": "portable-marshall",
    "outputId": "7127e6ce-e6d8-42f8-f591-73522c2a3597"
   },
   "outputs": [
    {
     "name": "stdout",
     "output_type": "stream",
     "text": [
      "<class 'pandas.core.frame.DataFrame'>\n",
      "RangeIndex: 139773 entries, 0 to 139772\n",
      "Data columns (total 10 columns):\n",
      " #   Column              Non-Null Count   Dtype         \n",
      "---  ------              --------------   -----         \n",
      " 0   site_id             139773 non-null  int64         \n",
      " 1   timestamp           139773 non-null  datetime64[ns]\n",
      " 2   air_temperature     139718 non-null  float64       \n",
      " 3   cloud_coverage      70600 non-null   float64       \n",
      " 4   dew_temperature     139660 non-null  float64       \n",
      " 5   precip_depth_1_hr   89484 non-null   float64       \n",
      " 6   sea_level_pressure  129155 non-null  float64       \n",
      " 7   wind_direction      133505 non-null  float64       \n",
      " 8   wind_speed          139469 non-null  float64       \n",
      " 9   month               139773 non-null  int64         \n",
      "dtypes: datetime64[ns](1), float64(7), int64(2)\n",
      "memory usage: 10.7 MB\n"
     ]
    }
   ],
   "source": [
    "weather_train_df.info()"
   ]
  },
  {
   "cell_type": "code",
   "execution_count": null,
   "id": "excellent-happiness",
   "metadata": {
    "id": "excellent-happiness",
    "outputId": "9989b5ef-5e39-4664-d6ac-f1a8ed804d36"
   },
   "outputs": [
    {
     "data": {
      "text/html": [
       "<div>\n",
       "<style scoped>\n",
       "    .dataframe tbody tr th:only-of-type {\n",
       "        vertical-align: middle;\n",
       "    }\n",
       "\n",
       "    .dataframe tbody tr th {\n",
       "        vertical-align: top;\n",
       "    }\n",
       "\n",
       "    .dataframe thead th {\n",
       "        text-align: right;\n",
       "    }\n",
       "</style>\n",
       "<table border=\"1\" class=\"dataframe\">\n",
       "  <thead>\n",
       "    <tr style=\"text-align: right;\">\n",
       "      <th></th>\n",
       "      <th>site_id</th>\n",
       "      <th>air_temperature</th>\n",
       "      <th>dew_temperature</th>\n",
       "      <th>sea_level_pressure</th>\n",
       "      <th>wind_direction</th>\n",
       "      <th>wind_speed</th>\n",
       "      <th>month</th>\n",
       "    </tr>\n",
       "  </thead>\n",
       "  <tbody>\n",
       "    <tr>\n",
       "      <th>0</th>\n",
       "      <td>0</td>\n",
       "      <td>25.0</td>\n",
       "      <td>20.0</td>\n",
       "      <td>1019.7</td>\n",
       "      <td>0.0</td>\n",
       "      <td>0.0</td>\n",
       "      <td>1</td>\n",
       "    </tr>\n",
       "    <tr>\n",
       "      <th>1</th>\n",
       "      <td>0</td>\n",
       "      <td>24.4</td>\n",
       "      <td>21.1</td>\n",
       "      <td>1020.2</td>\n",
       "      <td>70.0</td>\n",
       "      <td>1.5</td>\n",
       "      <td>1</td>\n",
       "    </tr>\n",
       "    <tr>\n",
       "      <th>2</th>\n",
       "      <td>0</td>\n",
       "      <td>22.8</td>\n",
       "      <td>21.1</td>\n",
       "      <td>1020.2</td>\n",
       "      <td>0.0</td>\n",
       "      <td>0.0</td>\n",
       "      <td>1</td>\n",
       "    </tr>\n",
       "    <tr>\n",
       "      <th>3</th>\n",
       "      <td>0</td>\n",
       "      <td>21.1</td>\n",
       "      <td>20.6</td>\n",
       "      <td>1020.1</td>\n",
       "      <td>0.0</td>\n",
       "      <td>0.0</td>\n",
       "      <td>1</td>\n",
       "    </tr>\n",
       "    <tr>\n",
       "      <th>4</th>\n",
       "      <td>0</td>\n",
       "      <td>20.0</td>\n",
       "      <td>20.0</td>\n",
       "      <td>1020.0</td>\n",
       "      <td>250.0</td>\n",
       "      <td>2.6</td>\n",
       "      <td>1</td>\n",
       "    </tr>\n",
       "    <tr>\n",
       "      <th>...</th>\n",
       "      <td>...</td>\n",
       "      <td>...</td>\n",
       "      <td>...</td>\n",
       "      <td>...</td>\n",
       "      <td>...</td>\n",
       "      <td>...</td>\n",
       "      <td>...</td>\n",
       "    </tr>\n",
       "    <tr>\n",
       "      <th>139768</th>\n",
       "      <td>15</td>\n",
       "      <td>3.0</td>\n",
       "      <td>-8.0</td>\n",
       "      <td>NaN</td>\n",
       "      <td>180.0</td>\n",
       "      <td>5.7</td>\n",
       "      <td>12</td>\n",
       "    </tr>\n",
       "    <tr>\n",
       "      <th>139769</th>\n",
       "      <td>15</td>\n",
       "      <td>2.8</td>\n",
       "      <td>-8.9</td>\n",
       "      <td>1007.4</td>\n",
       "      <td>180.0</td>\n",
       "      <td>7.7</td>\n",
       "      <td>12</td>\n",
       "    </tr>\n",
       "    <tr>\n",
       "      <th>139770</th>\n",
       "      <td>15</td>\n",
       "      <td>2.8</td>\n",
       "      <td>-7.2</td>\n",
       "      <td>1007.5</td>\n",
       "      <td>180.0</td>\n",
       "      <td>5.1</td>\n",
       "      <td>12</td>\n",
       "    </tr>\n",
       "    <tr>\n",
       "      <th>139771</th>\n",
       "      <td>15</td>\n",
       "      <td>2.2</td>\n",
       "      <td>-6.7</td>\n",
       "      <td>1008.0</td>\n",
       "      <td>170.0</td>\n",
       "      <td>4.6</td>\n",
       "      <td>12</td>\n",
       "    </tr>\n",
       "    <tr>\n",
       "      <th>139772</th>\n",
       "      <td>15</td>\n",
       "      <td>1.7</td>\n",
       "      <td>-5.6</td>\n",
       "      <td>1008.5</td>\n",
       "      <td>180.0</td>\n",
       "      <td>8.8</td>\n",
       "      <td>12</td>\n",
       "    </tr>\n",
       "  </tbody>\n",
       "</table>\n",
       "<p>139773 rows × 7 columns</p>\n",
       "</div>"
      ],
      "text/plain": [
       "        site_id  air_temperature  dew_temperature  sea_level_pressure  \\\n",
       "0             0             25.0             20.0              1019.7   \n",
       "1             0             24.4             21.1              1020.2   \n",
       "2             0             22.8             21.1              1020.2   \n",
       "3             0             21.1             20.6              1020.1   \n",
       "4             0             20.0             20.0              1020.0   \n",
       "...         ...              ...              ...                 ...   \n",
       "139768       15              3.0             -8.0                 NaN   \n",
       "139769       15              2.8             -8.9              1007.4   \n",
       "139770       15              2.8             -7.2              1007.5   \n",
       "139771       15              2.2             -6.7              1008.0   \n",
       "139772       15              1.7             -5.6              1008.5   \n",
       "\n",
       "        wind_direction  wind_speed  month  \n",
       "0                  0.0         0.0      1  \n",
       "1                 70.0         1.5      1  \n",
       "2                  0.0         0.0      1  \n",
       "3                  0.0         0.0      1  \n",
       "4                250.0         2.6      1  \n",
       "...                ...         ...    ...  \n",
       "139768           180.0         5.7     12  \n",
       "139769           180.0         7.7     12  \n",
       "139770           180.0         5.1     12  \n",
       "139771           170.0         4.6     12  \n",
       "139772           180.0         8.8     12  \n",
       "\n",
       "[139773 rows x 7 columns]"
      ]
     },
     "execution_count": 45,
     "metadata": {},
     "output_type": "execute_result"
    }
   ],
   "source": [
    "drop_col = ['timestamp','cloud_coverage','precip_depth_1_hr']\n",
    "weather_train_df.drop(drop_col, axis=1, inplace = True)\n",
    "weather_train_df"
   ]
  },
  {
   "cell_type": "code",
   "execution_count": null,
   "id": "motivated-eugene",
   "metadata": {
    "id": "motivated-eugene"
   },
   "outputs": [],
   "source": [
    "def check_zeros(col):\n",
    "    return len(weather_train_df[col==0])"
   ]
  },
  {
   "cell_type": "code",
   "execution_count": null,
   "id": "specialized-oxford",
   "metadata": {
    "id": "specialized-oxford",
    "outputId": "ab75056b-f0b3-4c6c-c393-5a7f0f9ea2fd"
   },
   "outputs": [
    {
     "name": "stdout",
     "output_type": "stream",
     "text": [
      "There are 0 coloumns with zeros in month\n",
      "There are 812 coloumns with zeros in air_temperature\n",
      "There are 2013 coloumns with zeros in dew_temperature\n",
      "There are 0 coloumns with zeros in sea_level_pressure\n",
      "There are 13154 coloumns with zeros in wind_direction\n",
      "There are 13542 coloumns with zeros in wind_speed\n"
     ]
    }
   ],
   "source": [
    "checked_cols = ['month','air_temperature','dew_temperature','sea_level_pressure','wind_direction','wind_speed']\n",
    "for col in checked_cols:\n",
    "    print(f'There are {check_zeros(weather_train_df[col])} coloumns with zeros in {col}')"
   ]
  },
  {
   "cell_type": "code",
   "execution_count": null,
   "id": "recreational-round",
   "metadata": {
    "id": "recreational-round",
    "outputId": "1e7db0a9-e022-44e6-aad9-917ee3e11ed6"
   },
   "outputs": [
    {
     "data": {
      "text/plain": [
       "1188"
      ]
     },
     "execution_count": 48,
     "metadata": {},
     "output_type": "execute_result"
    }
   ],
   "source": [
    "sum(weather_train_df.duplicated())"
   ]
  },
  {
   "cell_type": "code",
   "execution_count": null,
   "id": "systematic-firewall",
   "metadata": {
    "id": "systematic-firewall"
   },
   "outputs": [],
   "source": [
    "for col in checked_cols:\n",
    "    weather_train_df[col] = weather_train_df[col].replace(0, np.NAN)"
   ]
  },
  {
   "cell_type": "code",
   "execution_count": null,
   "id": "instructional-trance",
   "metadata": {
    "id": "instructional-trance",
    "outputId": "a8d7f441-ee23-4c74-dd42-1eb2be51a0bf"
   },
   "outputs": [
    {
     "name": "stdout",
     "output_type": "stream",
     "text": [
      "There are 0 rows with zero in month\n",
      "There are 0 rows with zero in air_temperature\n",
      "There are 0 rows with zero in dew_temperature\n",
      "There are 0 rows with zero in sea_level_pressure\n",
      "There are 0 rows with zero in wind_direction\n",
      "There are 0 rows with zero in wind_speed\n"
     ]
    }
   ],
   "source": [
    "for col in checked_cols:\n",
    "    print(f'There are {check_zeros(weather_train_df[col])} rows with zero in {col}')"
   ]
  },
  {
   "cell_type": "code",
   "execution_count": null,
   "id": "sitting-folder",
   "metadata": {
    "id": "sitting-folder"
   },
   "outputs": [],
   "source": [
    "weather_train_df.dropna(subset = checked_cols, inplace = True)"
   ]
  },
  {
   "cell_type": "code",
   "execution_count": null,
   "id": "reduced-costs",
   "metadata": {
    "id": "reduced-costs",
    "outputId": "a58334ad-b5c0-41cc-d2c4-730791ddf1e2"
   },
   "outputs": [
    {
     "name": "stdout",
     "output_type": "stream",
     "text": [
      "There are 0 NaN in site_id\n",
      "There are 0 NaN in air_temperature\n",
      "There are 0 NaN in dew_temperature\n",
      "There are 0 NaN in sea_level_pressure\n",
      "There are 0 NaN in wind_direction\n",
      "There are 0 NaN in wind_speed\n",
      "There are 0 NaN in month\n",
      "\n",
      "Now there are 107950 rows with 7 columns\n"
     ]
    }
   ],
   "source": [
    "def check_nan(col):\n",
    "    return sum(col.isnull())\n",
    "\n",
    "for col in weather_train_df:\n",
    "    print(f'There are {check_nan(weather_train_df[col])} NaN in {col}')\n",
    "    \n",
    "print(f'\\nNow there are {weather_train_df.shape[0]} rows with {weather_train_df.shape[1]} columns')"
   ]
  },
  {
   "cell_type": "code",
   "execution_count": null,
   "id": "applied-fever",
   "metadata": {
    "id": "applied-fever",
    "outputId": "7fa9d331-9c5e-4c5b-da54-afd8c2df11dd"
   },
   "outputs": [
    {
     "name": "stdout",
     "output_type": "stream",
     "text": [
      "<class 'pandas.core.frame.DataFrame'>\n",
      "Int64Index: 107950 entries, 1 to 139772\n",
      "Data columns (total 7 columns):\n",
      " #   Column              Non-Null Count   Dtype  \n",
      "---  ------              --------------   -----  \n",
      " 0   site_id             107950 non-null  int64  \n",
      " 1   air_temperature     107950 non-null  float64\n",
      " 2   dew_temperature     107950 non-null  float64\n",
      " 3   sea_level_pressure  107950 non-null  float64\n",
      " 4   wind_direction      107950 non-null  float64\n",
      " 5   wind_speed          107950 non-null  float64\n",
      " 6   month               107950 non-null  int64  \n",
      "dtypes: float64(5), int64(2)\n",
      "memory usage: 6.6 MB\n"
     ]
    }
   ],
   "source": [
    "weather_train_df.info()"
   ]
  },
  {
   "cell_type": "code",
   "execution_count": null,
   "id": "refined-barbados",
   "metadata": {
    "id": "refined-barbados",
    "outputId": "b2f29eb7-be58-46d2-db75-85969cf7d0da"
   },
   "outputs": [
    {
     "data": {
      "image/png": "[encoded data removed]",
      "text/plain": [
       "<Figure size 432x288 with 1 Axes>"
      ]
     },
     "metadata": {
      "needs_background": "light"
     },
     "output_type": "display_data"
    }
   ],
   "source": [
    "plot = weather_train_df.boxplot(col, by=\"site_id\")\n",
    "plt.tight_layout() \n",
    "plt.show()"
   ]
  },
  {
   "cell_type": "code",
   "execution_count": null,
   "id": "frank-behavior",
   "metadata": {
    "id": "frank-behavior",
    "outputId": "aff9e473-4459-4ec1-a80a-73df5f9835b1"
   },
   "outputs": [
    {
     "data": {
      "text/plain": [
       "<AxesSubplot:>"
      ]
     },
     "execution_count": 55,
     "metadata": {},
     "output_type": "execute_result"
    },
    {
     "data": {
      "image/png": "[encoded data removed]",
      "text/plain": [
       "<Figure size 432x288 with 2 Axes>"
      ]
     },
     "metadata": {
      "needs_background": "light"
     },
     "output_type": "display_data"
    }
   ],
   "source": [
    "sb.heatmap(weather_train_df.corr(),linewidths=.5,cmap=\"YlGnBu\")"
   ]
  },
  {
   "cell_type": "code",
   "execution_count": null,
   "id": "exotic-envelope",
   "metadata": {
    "id": "exotic-envelope",
    "outputId": "0cac097c-b43e-4618-fe57-2bf40ebc1a28"
   },
   "outputs": [
    {
     "name": "stdout",
     "output_type": "stream",
     "text": [
      "7406\n",
      "8651\n",
      "6766\n"
     ]
    }
   ],
   "source": [
    "##For every site there are multiple records taken in different timestamps\n",
    "print(len(weather_train_df[weather_train_df['site_id'] == 0]))\n",
    "print(len(weather_train_df[weather_train_df['site_id'] == 1]))\n",
    "print(len(weather_train_df[weather_train_df['site_id'] == 2]))"
   ]
  },
  {
   "cell_type": "code",
   "execution_count": null,
   "id": "noticed-machine",
   "metadata": {
    "id": "noticed-machine",
    "outputId": "9a92b02a-e1c9-43e4-db9d-8072995dbb3f"
   },
   "outputs": [
    {
     "data": {
      "text/html": [
       "<div>\n",
       "<style scoped>\n",
       "    .dataframe tbody tr th:only-of-type {\n",
       "        vertical-align: middle;\n",
       "    }\n",
       "\n",
       "    .dataframe tbody tr th {\n",
       "        vertical-align: top;\n",
       "    }\n",
       "\n",
       "    .dataframe thead th {\n",
       "        text-align: right;\n",
       "    }\n",
       "</style>\n",
       "<table border=\"1\" class=\"dataframe\">\n",
       "  <thead>\n",
       "    <tr style=\"text-align: right;\">\n",
       "      <th></th>\n",
       "      <th>site_id</th>\n",
       "      <th>month</th>\n",
       "      <th>air_temperature</th>\n",
       "      <th>dew_temperature</th>\n",
       "      <th>sea_level_pressure</th>\n",
       "      <th>wind_direction</th>\n",
       "      <th>wind_speed</th>\n",
       "    </tr>\n",
       "  </thead>\n",
       "  <tbody>\n",
       "    <tr>\n",
       "      <th>0</th>\n",
       "      <td>0</td>\n",
       "      <td>1</td>\n",
       "      <td>14.830351</td>\n",
       "      <td>9.098083</td>\n",
       "      <td>1017.830990</td>\n",
       "      <td>220.718850</td>\n",
       "      <td>4.124441</td>\n",
       "    </tr>\n",
       "    <tr>\n",
       "      <th>1</th>\n",
       "      <td>0</td>\n",
       "      <td>2</td>\n",
       "      <td>16.330844</td>\n",
       "      <td>8.838636</td>\n",
       "      <td>1019.960877</td>\n",
       "      <td>215.649351</td>\n",
       "      <td>4.473864</td>\n",
       "    </tr>\n",
       "    <tr>\n",
       "      <th>2</th>\n",
       "      <td>0</td>\n",
       "      <td>3</td>\n",
       "      <td>21.662691</td>\n",
       "      <td>14.527217</td>\n",
       "      <td>1018.487309</td>\n",
       "      <td>192.140673</td>\n",
       "      <td>4.035933</td>\n",
       "    </tr>\n",
       "    <tr>\n",
       "      <th>3</th>\n",
       "      <td>0</td>\n",
       "      <td>4</td>\n",
       "      <td>22.495702</td>\n",
       "      <td>14.559008</td>\n",
       "      <td>1017.275537</td>\n",
       "      <td>160.413223</td>\n",
       "      <td>4.168264</td>\n",
       "    </tr>\n",
       "    <tr>\n",
       "      <th>4</th>\n",
       "      <td>0</td>\n",
       "      <td>5</td>\n",
       "      <td>24.919063</td>\n",
       "      <td>17.213732</td>\n",
       "      <td>1016.040065</td>\n",
       "      <td>180.630048</td>\n",
       "      <td>3.736995</td>\n",
       "    </tr>\n",
       "    <tr>\n",
       "      <th>...</th>\n",
       "      <td>...</td>\n",
       "      <td>...</td>\n",
       "      <td>...</td>\n",
       "      <td>...</td>\n",
       "      <td>...</td>\n",
       "      <td>...</td>\n",
       "      <td>...</td>\n",
       "    </tr>\n",
       "    <tr>\n",
       "      <th>175</th>\n",
       "      <td>15</td>\n",
       "      <td>8</td>\n",
       "      <td>22.616636</td>\n",
       "      <td>17.500555</td>\n",
       "      <td>1017.525878</td>\n",
       "      <td>188.983364</td>\n",
       "      <td>3.366359</td>\n",
       "    </tr>\n",
       "    <tr>\n",
       "      <th>176</th>\n",
       "      <td>15</td>\n",
       "      <td>9</td>\n",
       "      <td>17.208503</td>\n",
       "      <td>12.344362</td>\n",
       "      <td>1019.955268</td>\n",
       "      <td>169.279113</td>\n",
       "      <td>3.242144</td>\n",
       "    </tr>\n",
       "    <tr>\n",
       "      <th>177</th>\n",
       "      <td>15</td>\n",
       "      <td>10</td>\n",
       "      <td>10.391219</td>\n",
       "      <td>6.956810</td>\n",
       "      <td>1019.793728</td>\n",
       "      <td>212.025090</td>\n",
       "      <td>4.143907</td>\n",
       "    </tr>\n",
       "    <tr>\n",
       "      <th>178</th>\n",
       "      <td>15</td>\n",
       "      <td>11</td>\n",
       "      <td>5.474095</td>\n",
       "      <td>1.120571</td>\n",
       "      <td>1017.960762</td>\n",
       "      <td>225.047619</td>\n",
       "      <td>4.486286</td>\n",
       "    </tr>\n",
       "    <tr>\n",
       "      <th>179</th>\n",
       "      <td>15</td>\n",
       "      <td>12</td>\n",
       "      <td>-1.681169</td>\n",
       "      <td>-5.443669</td>\n",
       "      <td>1018.666396</td>\n",
       "      <td>224.740260</td>\n",
       "      <td>4.984091</td>\n",
       "    </tr>\n",
       "  </tbody>\n",
       "</table>\n",
       "<p>180 rows × 7 columns</p>\n",
       "</div>"
      ],
      "text/plain": [
       "     site_id  month  air_temperature  dew_temperature  sea_level_pressure  \\\n",
       "0          0      1        14.830351         9.098083         1017.830990   \n",
       "1          0      2        16.330844         8.838636         1019.960877   \n",
       "2          0      3        21.662691        14.527217         1018.487309   \n",
       "3          0      4        22.495702        14.559008         1017.275537   \n",
       "4          0      5        24.919063        17.213732         1016.040065   \n",
       "..       ...    ...              ...              ...                 ...   \n",
       "175       15      8        22.616636        17.500555         1017.525878   \n",
       "176       15      9        17.208503        12.344362         1019.955268   \n",
       "177       15     10        10.391219         6.956810         1019.793728   \n",
       "178       15     11         5.474095         1.120571         1017.960762   \n",
       "179       15     12        -1.681169        -5.443669         1018.666396   \n",
       "\n",
       "     wind_direction  wind_speed  \n",
       "0        220.718850    4.124441  \n",
       "1        215.649351    4.473864  \n",
       "2        192.140673    4.035933  \n",
       "3        160.413223    4.168264  \n",
       "4        180.630048    3.736995  \n",
       "..              ...         ...  \n",
       "175      188.983364    3.366359  \n",
       "176      169.279113    3.242144  \n",
       "177      212.025090    4.143907  \n",
       "178      225.047619    4.486286  \n",
       "179      224.740260    4.984091  \n",
       "\n",
       "[180 rows x 7 columns]"
      ]
     },
     "execution_count": 57,
     "metadata": {},
     "output_type": "execute_result"
    }
   ],
   "source": [
    "weather_train_df_t = weather_train_df.groupby(['site_id', 'month']).mean()\n",
    "weather_train_df_t.reset_index()"
   ]
  },
  {
   "cell_type": "markdown",
   "id": "acknowledged-evolution",
   "metadata": {
    "id": "acknowledged-evolution"
   },
   "source": [
    "## Merge files"
   ]
  },
  {
   "cell_type": "code",
   "execution_count": null,
   "id": "blond-variable",
   "metadata": {
    "id": "blond-variable",
    "outputId": "24a5a65c-3835-4448-a605-db9b5cae56c4"
   },
   "outputs": [
    {
     "data": {
      "text/html": [
       "<div>\n",
       "<style scoped>\n",
       "    .dataframe tbody tr th:only-of-type {\n",
       "        vertical-align: middle;\n",
       "    }\n",
       "\n",
       "    .dataframe tbody tr th {\n",
       "        vertical-align: top;\n",
       "    }\n",
       "\n",
       "    .dataframe thead th {\n",
       "        text-align: right;\n",
       "    }\n",
       "</style>\n",
       "<table border=\"1\" class=\"dataframe\">\n",
       "  <thead>\n",
       "    <tr style=\"text-align: right;\">\n",
       "      <th></th>\n",
       "      <th>building_id</th>\n",
       "      <th>meter</th>\n",
       "      <th>month</th>\n",
       "      <th>meter_reading</th>\n",
       "      <th>meter_reading_log</th>\n",
       "      <th>site_id</th>\n",
       "      <th>primary_use</th>\n",
       "      <th>square_feet</th>\n",
       "    </tr>\n",
       "  </thead>\n",
       "  <tbody>\n",
       "    <tr>\n",
       "      <th>0</th>\n",
       "      <td>0</td>\n",
       "      <td>electricity</td>\n",
       "      <td>1</td>\n",
       "      <td>0.148491</td>\n",
       "      <td>0.013622</td>\n",
       "      <td>0</td>\n",
       "      <td>Education</td>\n",
       "      <td>7432</td>\n",
       "    </tr>\n",
       "    <tr>\n",
       "      <th>1</th>\n",
       "      <td>0</td>\n",
       "      <td>electricity</td>\n",
       "      <td>2</td>\n",
       "      <td>0.000000</td>\n",
       "      <td>0.000000</td>\n",
       "      <td>0</td>\n",
       "      <td>Education</td>\n",
       "      <td>7432</td>\n",
       "    </tr>\n",
       "    <tr>\n",
       "      <th>2</th>\n",
       "      <td>0</td>\n",
       "      <td>electricity</td>\n",
       "      <td>3</td>\n",
       "      <td>0.000000</td>\n",
       "      <td>0.000000</td>\n",
       "      <td>0</td>\n",
       "      <td>Education</td>\n",
       "      <td>7432</td>\n",
       "    </tr>\n",
       "    <tr>\n",
       "      <th>3</th>\n",
       "      <td>0</td>\n",
       "      <td>electricity</td>\n",
       "      <td>4</td>\n",
       "      <td>0.108561</td>\n",
       "      <td>0.007497</td>\n",
       "      <td>0</td>\n",
       "      <td>Education</td>\n",
       "      <td>7432</td>\n",
       "    </tr>\n",
       "    <tr>\n",
       "      <th>4</th>\n",
       "      <td>0</td>\n",
       "      <td>electricity</td>\n",
       "      <td>5</td>\n",
       "      <td>80.676614</td>\n",
       "      <td>2.008154</td>\n",
       "      <td>0</td>\n",
       "      <td>Education</td>\n",
       "      <td>7432</td>\n",
       "    </tr>\n",
       "    <tr>\n",
       "      <th>...</th>\n",
       "      <td>...</td>\n",
       "      <td>...</td>\n",
       "      <td>...</td>\n",
       "      <td>...</td>\n",
       "      <td>...</td>\n",
       "      <td>...</td>\n",
       "      <td>...</td>\n",
       "      <td>...</td>\n",
       "    </tr>\n",
       "    <tr>\n",
       "      <th>28327</th>\n",
       "      <td>1448</td>\n",
       "      <td>electricity</td>\n",
       "      <td>8</td>\n",
       "      <td>3.328552</td>\n",
       "      <td>1.452034</td>\n",
       "      <td>15</td>\n",
       "      <td>Office</td>\n",
       "      <td>92271</td>\n",
       "    </tr>\n",
       "    <tr>\n",
       "      <th>28328</th>\n",
       "      <td>1448</td>\n",
       "      <td>electricity</td>\n",
       "      <td>9</td>\n",
       "      <td>3.216560</td>\n",
       "      <td>1.425956</td>\n",
       "      <td>15</td>\n",
       "      <td>Office</td>\n",
       "      <td>92271</td>\n",
       "    </tr>\n",
       "    <tr>\n",
       "      <th>28329</th>\n",
       "      <td>1448</td>\n",
       "      <td>electricity</td>\n",
       "      <td>10</td>\n",
       "      <td>3.307445</td>\n",
       "      <td>1.448195</td>\n",
       "      <td>15</td>\n",
       "      <td>Office</td>\n",
       "      <td>92271</td>\n",
       "    </tr>\n",
       "    <tr>\n",
       "      <th>28330</th>\n",
       "      <td>1448</td>\n",
       "      <td>electricity</td>\n",
       "      <td>11</td>\n",
       "      <td>3.430587</td>\n",
       "      <td>1.477658</td>\n",
       "      <td>15</td>\n",
       "      <td>Office</td>\n",
       "      <td>92271</td>\n",
       "    </tr>\n",
       "    <tr>\n",
       "      <th>28331</th>\n",
       "      <td>1448</td>\n",
       "      <td>electricity</td>\n",
       "      <td>12</td>\n",
       "      <td>3.617103</td>\n",
       "      <td>1.520908</td>\n",
       "      <td>15</td>\n",
       "      <td>Office</td>\n",
       "      <td>92271</td>\n",
       "    </tr>\n",
       "  </tbody>\n",
       "</table>\n",
       "<p>28332 rows × 8 columns</p>\n",
       "</div>"
      ],
      "text/plain": [
       "       building_id        meter  month  meter_reading  meter_reading_log  \\\n",
       "0                0  electricity      1       0.148491           0.013622   \n",
       "1                0  electricity      2       0.000000           0.000000   \n",
       "2                0  electricity      3       0.000000           0.000000   \n",
       "3                0  electricity      4       0.108561           0.007497   \n",
       "4                0  electricity      5      80.676614           2.008154   \n",
       "...            ...          ...    ...            ...                ...   \n",
       "28327         1448  electricity      8       3.328552           1.452034   \n",
       "28328         1448  electricity      9       3.216560           1.425956   \n",
       "28329         1448  electricity     10       3.307445           1.448195   \n",
       "28330         1448  electricity     11       3.430587           1.477658   \n",
       "28331         1448  electricity     12       3.617103           1.520908   \n",
       "\n",
       "       site_id primary_use  square_feet  \n",
       "0            0   Education         7432  \n",
       "1            0   Education         7432  \n",
       "2            0   Education         7432  \n",
       "3            0   Education         7432  \n",
       "4            0   Education         7432  \n",
       "...        ...         ...          ...  \n",
       "28327       15      Office        92271  \n",
       "28328       15      Office        92271  \n",
       "28329       15      Office        92271  \n",
       "28330       15      Office        92271  \n",
       "28331       15      Office        92271  \n",
       "\n",
       "[28332 rows x 8 columns]"
      ]
     },
     "execution_count": 80,
     "metadata": {},
     "output_type": "execute_result"
    }
   ],
   "source": [
    "merged_df = sample_train_df.merge(building_metadata_df, on='building_id')\n",
    "merged_df"
   ]
  },
  {
   "cell_type": "code",
   "execution_count": null,
   "id": "resistant-soundtrack",
   "metadata": {
    "id": "resistant-soundtrack",
    "outputId": "5064f352-8009-4008-8646-8f6872b345d6"
   },
   "outputs": [
    {
     "data": {
      "text/html": [
       "<div>\n",
       "<style scoped>\n",
       "    .dataframe tbody tr th:only-of-type {\n",
       "        vertical-align: middle;\n",
       "    }\n",
       "\n",
       "    .dataframe tbody tr th {\n",
       "        vertical-align: top;\n",
       "    }\n",
       "\n",
       "    .dataframe thead th {\n",
       "        text-align: right;\n",
       "    }\n",
       "</style>\n",
       "<table border=\"1\" class=\"dataframe\">\n",
       "  <thead>\n",
       "    <tr style=\"text-align: right;\">\n",
       "      <th></th>\n",
       "      <th>building_id</th>\n",
       "      <th>meter</th>\n",
       "      <th>month</th>\n",
       "      <th>meter_reading</th>\n",
       "      <th>meter_reading_log</th>\n",
       "      <th>site_id</th>\n",
       "      <th>primary_use</th>\n",
       "      <th>square_feet</th>\n",
       "      <th>air_temperature</th>\n",
       "      <th>dew_temperature</th>\n",
       "      <th>sea_level_pressure</th>\n",
       "      <th>wind_direction</th>\n",
       "      <th>wind_speed</th>\n",
       "    </tr>\n",
       "  </thead>\n",
       "  <tbody>\n",
       "    <tr>\n",
       "      <th>0</th>\n",
       "      <td>0</td>\n",
       "      <td>electricity</td>\n",
       "      <td>1</td>\n",
       "      <td>0.148491</td>\n",
       "      <td>0.013622</td>\n",
       "      <td>0</td>\n",
       "      <td>Education</td>\n",
       "      <td>7432</td>\n",
       "      <td>14.830351</td>\n",
       "      <td>9.098083</td>\n",
       "      <td>1017.830990</td>\n",
       "      <td>220.718850</td>\n",
       "      <td>4.124441</td>\n",
       "    </tr>\n",
       "    <tr>\n",
       "      <th>1</th>\n",
       "      <td>1</td>\n",
       "      <td>electricity</td>\n",
       "      <td>1</td>\n",
       "      <td>0.502991</td>\n",
       "      <td>0.075676</td>\n",
       "      <td>0</td>\n",
       "      <td>Education</td>\n",
       "      <td>2720</td>\n",
       "      <td>14.830351</td>\n",
       "      <td>9.098083</td>\n",
       "      <td>1017.830990</td>\n",
       "      <td>220.718850</td>\n",
       "      <td>4.124441</td>\n",
       "    </tr>\n",
       "    <tr>\n",
       "      <th>2</th>\n",
       "      <td>2</td>\n",
       "      <td>electricity</td>\n",
       "      <td>1</td>\n",
       "      <td>0.002258</td>\n",
       "      <td>0.001473</td>\n",
       "      <td>0</td>\n",
       "      <td>Education</td>\n",
       "      <td>5376</td>\n",
       "      <td>14.830351</td>\n",
       "      <td>9.098083</td>\n",
       "      <td>1017.830990</td>\n",
       "      <td>220.718850</td>\n",
       "      <td>4.124441</td>\n",
       "    </tr>\n",
       "    <tr>\n",
       "      <th>3</th>\n",
       "      <td>3</td>\n",
       "      <td>electricity</td>\n",
       "      <td>1</td>\n",
       "      <td>0.000000</td>\n",
       "      <td>0.000000</td>\n",
       "      <td>0</td>\n",
       "      <td>Education</td>\n",
       "      <td>23685</td>\n",
       "      <td>14.830351</td>\n",
       "      <td>9.098083</td>\n",
       "      <td>1017.830990</td>\n",
       "      <td>220.718850</td>\n",
       "      <td>4.124441</td>\n",
       "    </tr>\n",
       "    <tr>\n",
       "      <th>4</th>\n",
       "      <td>4</td>\n",
       "      <td>electricity</td>\n",
       "      <td>1</td>\n",
       "      <td>0.148025</td>\n",
       "      <td>0.007687</td>\n",
       "      <td>0</td>\n",
       "      <td>Education</td>\n",
       "      <td>116607</td>\n",
       "      <td>14.830351</td>\n",
       "      <td>9.098083</td>\n",
       "      <td>1017.830990</td>\n",
       "      <td>220.718850</td>\n",
       "      <td>4.124441</td>\n",
       "    </tr>\n",
       "    <tr>\n",
       "      <th>...</th>\n",
       "      <td>...</td>\n",
       "      <td>...</td>\n",
       "      <td>...</td>\n",
       "      <td>...</td>\n",
       "      <td>...</td>\n",
       "      <td>...</td>\n",
       "      <td>...</td>\n",
       "      <td>...</td>\n",
       "      <td>...</td>\n",
       "      <td>...</td>\n",
       "      <td>...</td>\n",
       "      <td>...</td>\n",
       "      <td>...</td>\n",
       "    </tr>\n",
       "    <tr>\n",
       "      <th>27259</th>\n",
       "      <td>1444</td>\n",
       "      <td>electricity</td>\n",
       "      <td>8</td>\n",
       "      <td>5.568761</td>\n",
       "      <td>1.846364</td>\n",
       "      <td>15</td>\n",
       "      <td>Entertainment/public assembly</td>\n",
       "      <td>19619</td>\n",
       "      <td>22.616636</td>\n",
       "      <td>17.500555</td>\n",
       "      <td>1017.525878</td>\n",
       "      <td>188.983364</td>\n",
       "      <td>3.366359</td>\n",
       "    </tr>\n",
       "    <tr>\n",
       "      <th>27260</th>\n",
       "      <td>1445</td>\n",
       "      <td>electricity</td>\n",
       "      <td>8</td>\n",
       "      <td>4.237983</td>\n",
       "      <td>1.609875</td>\n",
       "      <td>15</td>\n",
       "      <td>Education</td>\n",
       "      <td>4298</td>\n",
       "      <td>22.616636</td>\n",
       "      <td>17.500555</td>\n",
       "      <td>1017.525878</td>\n",
       "      <td>188.983364</td>\n",
       "      <td>3.366359</td>\n",
       "    </tr>\n",
       "    <tr>\n",
       "      <th>27261</th>\n",
       "      <td>1446</td>\n",
       "      <td>electricity</td>\n",
       "      <td>8</td>\n",
       "      <td>3.391467</td>\n",
       "      <td>0.949666</td>\n",
       "      <td>15</td>\n",
       "      <td>Entertainment/public assembly</td>\n",
       "      <td>11265</td>\n",
       "      <td>22.616636</td>\n",
       "      <td>17.500555</td>\n",
       "      <td>1017.525878</td>\n",
       "      <td>188.983364</td>\n",
       "      <td>3.366359</td>\n",
       "    </tr>\n",
       "    <tr>\n",
       "      <th>27262</th>\n",
       "      <td>1447</td>\n",
       "      <td>electricity</td>\n",
       "      <td>8</td>\n",
       "      <td>180.494730</td>\n",
       "      <td>5.193564</td>\n",
       "      <td>15</td>\n",
       "      <td>Lodging/residential</td>\n",
       "      <td>29775</td>\n",
       "      <td>22.616636</td>\n",
       "      <td>17.500555</td>\n",
       "      <td>1017.525878</td>\n",
       "      <td>188.983364</td>\n",
       "      <td>3.366359</td>\n",
       "    </tr>\n",
       "    <tr>\n",
       "      <th>27263</th>\n",
       "      <td>1448</td>\n",
       "      <td>electricity</td>\n",
       "      <td>8</td>\n",
       "      <td>3.328552</td>\n",
       "      <td>1.452034</td>\n",
       "      <td>15</td>\n",
       "      <td>Office</td>\n",
       "      <td>92271</td>\n",
       "      <td>22.616636</td>\n",
       "      <td>17.500555</td>\n",
       "      <td>1017.525878</td>\n",
       "      <td>188.983364</td>\n",
       "      <td>3.366359</td>\n",
       "    </tr>\n",
       "  </tbody>\n",
       "</table>\n",
       "<p>27264 rows × 13 columns</p>\n",
       "</div>"
      ],
      "text/plain": [
       "       building_id        meter  month  meter_reading  meter_reading_log  \\\n",
       "0                0  electricity      1       0.148491           0.013622   \n",
       "1                1  electricity      1       0.502991           0.075676   \n",
       "2                2  electricity      1       0.002258           0.001473   \n",
       "3                3  electricity      1       0.000000           0.000000   \n",
       "4                4  electricity      1       0.148025           0.007687   \n",
       "...            ...          ...    ...            ...                ...   \n",
       "27259         1444  electricity      8       5.568761           1.846364   \n",
       "27260         1445  electricity      8       4.237983           1.609875   \n",
       "27261         1446  electricity      8       3.391467           0.949666   \n",
       "27262         1447  electricity      8     180.494730           5.193564   \n",
       "27263         1448  electricity      8       3.328552           1.452034   \n",
       "\n",
       "       site_id                    primary_use  square_feet  air_temperature  \\\n",
       "0            0                      Education         7432        14.830351   \n",
       "1            0                      Education         2720        14.830351   \n",
       "2            0                      Education         5376        14.830351   \n",
       "3            0                      Education        23685        14.830351   \n",
       "4            0                      Education       116607        14.830351   \n",
       "...        ...                            ...          ...              ...   \n",
       "27259       15  Entertainment/public assembly        19619        22.616636   \n",
       "27260       15                      Education         4298        22.616636   \n",
       "27261       15  Entertainment/public assembly        11265        22.616636   \n",
       "27262       15            Lodging/residential        29775        22.616636   \n",
       "27263       15                         Office        92271        22.616636   \n",
       "\n",
       "       dew_temperature  sea_level_pressure  wind_direction  wind_speed  \n",
       "0             9.098083         1017.830990      220.718850    4.124441  \n",
       "1             9.098083         1017.830990      220.718850    4.124441  \n",
       "2             9.098083         1017.830990      220.718850    4.124441  \n",
       "3             9.098083         1017.830990      220.718850    4.124441  \n",
       "4             9.098083         1017.830990      220.718850    4.124441  \n",
       "...                ...                 ...             ...         ...  \n",
       "27259        17.500555         1017.525878      188.983364    3.366359  \n",
       "27260        17.500555         1017.525878      188.983364    3.366359  \n",
       "27261        17.500555         1017.525878      188.983364    3.366359  \n",
       "27262        17.500555         1017.525878      188.983364    3.366359  \n",
       "27263        17.500555         1017.525878      188.983364    3.366359  \n",
       "\n",
       "[27264 rows x 13 columns]"
      ]
     },
     "execution_count": 81,
     "metadata": {},
     "output_type": "execute_result"
    }
   ],
   "source": [
    "merged_df = merged_df.merge(weather_train_df_t, on=['site_id', 'month'])\n",
    "merged_df"
   ]
  },
  {
   "cell_type": "code",
   "execution_count": null,
   "id": "yellow-summit",
   "metadata": {
    "id": "yellow-summit",
    "outputId": "203f1a0d-09a3-4f7e-d812-6a9839944f07"
   },
   "outputs": [
    {
     "name": "stdout",
     "output_type": "stream",
     "text": [
      "<class 'pandas.core.frame.DataFrame'>\n",
      "Int64Index: 27264 entries, 0 to 27263\n",
      "Data columns (total 13 columns):\n",
      " #   Column              Non-Null Count  Dtype  \n",
      "---  ------              --------------  -----  \n",
      " 0   building_id         27264 non-null  int64  \n",
      " 1   meter               27264 non-null  object \n",
      " 2   month               27264 non-null  int64  \n",
      " 3   meter_reading       27264 non-null  float64\n",
      " 4   meter_reading_log   27264 non-null  float64\n",
      " 5   site_id             27264 non-null  int64  \n",
      " 6   primary_use         27264 non-null  object \n",
      " 7   square_feet         27264 non-null  int64  \n",
      " 8   air_temperature     27264 non-null  float64\n",
      " 9   dew_temperature     27264 non-null  float64\n",
      " 10  sea_level_pressure  27264 non-null  float64\n",
      " 11  wind_direction      27264 non-null  float64\n",
      " 12  wind_speed          27264 non-null  float64\n",
      "dtypes: float64(7), int64(4), object(2)\n",
      "memory usage: 2.9+ MB\n"
     ]
    }
   ],
   "source": [
    "merged_df.info()"
   ]
  },
  {
   "cell_type": "code",
   "execution_count": null,
   "id": "orange-platform",
   "metadata": {
    "id": "orange-platform",
    "outputId": "b47c08d3-5c4e-4503-a3dd-b9446f3dd16f"
   },
   "outputs": [
    {
     "data": {
      "text/plain": [
       "(27264, 13)"
      ]
     },
     "execution_count": 83,
     "metadata": {},
     "output_type": "execute_result"
    }
   ],
   "source": [
    "merged_df.shape"
   ]
  },
  {
   "cell_type": "code",
   "execution_count": null,
   "id": "harmful-distinction",
   "metadata": {
    "id": "harmful-distinction",
    "outputId": "b5dc7b47-f820-4776-e7b2-6ba3a868be48"
   },
   "outputs": [
    {
     "data": {
      "text/plain": [
       "building_id           0\n",
       "meter                 0\n",
       "month                 0\n",
       "meter_reading         0\n",
       "meter_reading_log     0\n",
       "site_id               0\n",
       "primary_use           0\n",
       "square_feet           0\n",
       "air_temperature       0\n",
       "dew_temperature       0\n",
       "sea_level_pressure    0\n",
       "wind_direction        0\n",
       "wind_speed            0\n",
       "dtype: int64"
      ]
     },
     "execution_count": 84,
     "metadata": {},
     "output_type": "execute_result"
    }
   ],
   "source": [
    "merged_df.isnull().sum()"
   ]
  },
  {
   "cell_type": "code",
   "execution_count": null,
   "id": "administrative-dividend",
   "metadata": {
    "id": "administrative-dividend",
    "outputId": "daab8e53-9c42-44d9-d4cb-f2cffbc19bf8"
   },
   "outputs": [
    {
     "data": {
      "text/plain": [
       "array([ 0,  1,  2,  3,  4,  6,  7,  8,  9, 10, 11, 12, 13, 14, 15],\n",
       "      dtype=int64)"
      ]
     },
     "execution_count": 85,
     "metadata": {},
     "output_type": "execute_result"
    }
   ],
   "source": [
    "merged_df['site_id'].unique()"
   ]
  },
  {
   "cell_type": "code",
   "execution_count": null,
   "id": "logical-hotel",
   "metadata": {
    "id": "logical-hotel",
    "outputId": "518facf9-aa43-47c2-cfe9-213d28871ef0"
   },
   "outputs": [
    {
     "data": {
      "text/plain": [
       "<AxesSubplot:>"
      ]
     },
     "execution_count": 86,
     "metadata": {},
     "output_type": "execute_result"
    },
    {
     "data": {
      "image/png": "[encoded data removed]",
      "text/plain": [
       "<Figure size 792x648 with 2 Axes>"
      ]
     },
     "metadata": {
      "needs_background": "light"
     },
     "output_type": "display_data"
    }
   ],
   "source": [
    "#Check correlation betweeen features\n",
    "corr = merged_df.corr()\n",
    "f, ax = plt.subplots(figsize=(11, 9))\n",
    "sb.heatmap(corr)"
   ]
  },
  {
   "cell_type": "code",
   "execution_count": null,
   "id": "competitive-branch",
   "metadata": {
    "id": "competitive-branch",
    "outputId": "c89417ba-6449-491a-c57c-f290176cc78a"
   },
   "outputs": [
    {
     "data": {
      "text/plain": [
       "Education                        10831\n",
       "Office                            6004\n",
       "Lodging/residential               3035\n",
       "Entertainment/public assembly     2970\n",
       "Public services                   2265\n",
       "Healthcare                         540\n",
       "Other                              332\n",
       "Parking                            293\n",
       "Food sales and service             156\n",
       "Warehouse/storage                  155\n",
       "Retail                             155\n",
       "Manufacturing/industrial           144\n",
       "Services                           132\n",
       "Technology/science                 120\n",
       "Utility                             84\n",
       "Religious worship                   48\n",
       "Name: primary_use, dtype: int64"
      ]
     },
     "execution_count": 87,
     "metadata": {},
     "output_type": "execute_result"
    }
   ],
   "source": [
    "merged_df['primary_use'].value_counts()"
   ]
  },
  {
   "cell_type": "code",
   "execution_count": null,
   "id": "fifty-respondent",
   "metadata": {
    "id": "fifty-respondent",
    "outputId": "b2c90eb1-e263-4590-f398-0a55f9175a93"
   },
   "outputs": [
    {
     "data": {
      "text/html": [
       "<div>\n",
       "<style scoped>\n",
       "    .dataframe tbody tr th:only-of-type {\n",
       "        vertical-align: middle;\n",
       "    }\n",
       "\n",
       "    .dataframe tbody tr th {\n",
       "        vertical-align: top;\n",
       "    }\n",
       "\n",
       "    .dataframe thead th {\n",
       "        text-align: right;\n",
       "    }\n",
       "</style>\n",
       "<table border=\"1\" class=\"dataframe\">\n",
       "  <thead>\n",
       "    <tr style=\"text-align: right;\">\n",
       "      <th></th>\n",
       "      <th>mean</th>\n",
       "    </tr>\n",
       "    <tr>\n",
       "      <th>primary_use</th>\n",
       "      <th></th>\n",
       "    </tr>\n",
       "  </thead>\n",
       "  <tbody>\n",
       "    <tr>\n",
       "      <th>Education</th>\n",
       "      <td>4816.912493</td>\n",
       "    </tr>\n",
       "    <tr>\n",
       "      <th>Entertainment/public assembly</th>\n",
       "      <td>502.983846</td>\n",
       "    </tr>\n",
       "    <tr>\n",
       "      <th>Food sales and service</th>\n",
       "      <td>304.391502</td>\n",
       "    </tr>\n",
       "    <tr>\n",
       "      <th>Healthcare</th>\n",
       "      <td>746.526579</td>\n",
       "    </tr>\n",
       "    <tr>\n",
       "      <th>Lodging/residential</th>\n",
       "      <td>280.255432</td>\n",
       "    </tr>\n",
       "    <tr>\n",
       "      <th>Manufacturing/industrial</th>\n",
       "      <td>345.062557</td>\n",
       "    </tr>\n",
       "    <tr>\n",
       "      <th>Office</th>\n",
       "      <td>530.152950</td>\n",
       "    </tr>\n",
       "    <tr>\n",
       "      <th>Other</th>\n",
       "      <td>154.128865</td>\n",
       "    </tr>\n",
       "    <tr>\n",
       "      <th>Parking</th>\n",
       "      <td>168.876376</td>\n",
       "    </tr>\n",
       "    <tr>\n",
       "      <th>Public services</th>\n",
       "      <td>291.742566</td>\n",
       "    </tr>\n",
       "    <tr>\n",
       "      <th>Religious worship</th>\n",
       "      <td>5.535096</td>\n",
       "    </tr>\n",
       "    <tr>\n",
       "      <th>Retail</th>\n",
       "      <td>139.978633</td>\n",
       "    </tr>\n",
       "    <tr>\n",
       "      <th>Services</th>\n",
       "      <td>4113.999844</td>\n",
       "    </tr>\n",
       "    <tr>\n",
       "      <th>Technology/science</th>\n",
       "      <td>135.083775</td>\n",
       "    </tr>\n",
       "    <tr>\n",
       "      <th>Utility</th>\n",
       "      <td>512.361582</td>\n",
       "    </tr>\n",
       "    <tr>\n",
       "      <th>Warehouse/storage</th>\n",
       "      <td>53.859124</td>\n",
       "    </tr>\n",
       "  </tbody>\n",
       "</table>\n",
       "</div>"
      ],
      "text/plain": [
       "                                      mean\n",
       "primary_use                               \n",
       "Education                      4816.912493\n",
       "Entertainment/public assembly   502.983846\n",
       "Food sales and service          304.391502\n",
       "Healthcare                      746.526579\n",
       "Lodging/residential             280.255432\n",
       "Manufacturing/industrial        345.062557\n",
       "Office                          530.152950\n",
       "Other                           154.128865\n",
       "Parking                         168.876376\n",
       "Public services                 291.742566\n",
       "Religious worship                 5.535096\n",
       "Retail                          139.978633\n",
       "Services                       4113.999844\n",
       "Technology/science              135.083775\n",
       "Utility                         512.361582\n",
       "Warehouse/storage                53.859124"
      ]
     },
     "execution_count": 88,
     "metadata": {},
     "output_type": "execute_result"
    }
   ],
   "source": [
    "#Mean Of meter_reading by primary_use\n",
    "merged_df.groupby('primary_use').meter_reading.agg(['mean'])"
   ]
  },
  {
   "cell_type": "code",
   "execution_count": null,
   "id": "insured-quilt",
   "metadata": {
    "id": "insured-quilt",
    "outputId": "48d312a7-8e7f-4089-ff04-2e789aad6087"
   },
   "outputs": [
    {
     "data": {
      "text/html": [
       "<div>\n",
       "<style scoped>\n",
       "    .dataframe tbody tr th:only-of-type {\n",
       "        vertical-align: middle;\n",
       "    }\n",
       "\n",
       "    .dataframe tbody tr th {\n",
       "        vertical-align: top;\n",
       "    }\n",
       "\n",
       "    .dataframe thead th {\n",
       "        text-align: right;\n",
       "    }\n",
       "</style>\n",
       "<table border=\"1\" class=\"dataframe\">\n",
       "  <thead>\n",
       "    <tr style=\"text-align: right;\">\n",
       "      <th></th>\n",
       "      <th>building_id</th>\n",
       "      <th>meter</th>\n",
       "      <th>month</th>\n",
       "      <th>meter_reading</th>\n",
       "      <th>meter_reading_log</th>\n",
       "      <th>site_id</th>\n",
       "      <th>primary_use</th>\n",
       "      <th>square_feet</th>\n",
       "      <th>air_temperature</th>\n",
       "      <th>dew_temperature</th>\n",
       "      <th>sea_level_pressure</th>\n",
       "      <th>wind_direction</th>\n",
       "      <th>wind_speed</th>\n",
       "    </tr>\n",
       "  </thead>\n",
       "  <tbody>\n",
       "    <tr>\n",
       "      <th>0</th>\n",
       "      <td>0</td>\n",
       "      <td>0</td>\n",
       "      <td>1</td>\n",
       "      <td>0.148491</td>\n",
       "      <td>0.013622</td>\n",
       "      <td>0</td>\n",
       "      <td>0</td>\n",
       "      <td>7432</td>\n",
       "      <td>14.830351</td>\n",
       "      <td>9.098083</td>\n",
       "      <td>1017.830990</td>\n",
       "      <td>220.718850</td>\n",
       "      <td>4.124441</td>\n",
       "    </tr>\n",
       "    <tr>\n",
       "      <th>1</th>\n",
       "      <td>1</td>\n",
       "      <td>0</td>\n",
       "      <td>1</td>\n",
       "      <td>0.502991</td>\n",
       "      <td>0.075676</td>\n",
       "      <td>0</td>\n",
       "      <td>0</td>\n",
       "      <td>2720</td>\n",
       "      <td>14.830351</td>\n",
       "      <td>9.098083</td>\n",
       "      <td>1017.830990</td>\n",
       "      <td>220.718850</td>\n",
       "      <td>4.124441</td>\n",
       "    </tr>\n",
       "    <tr>\n",
       "      <th>2</th>\n",
       "      <td>2</td>\n",
       "      <td>0</td>\n",
       "      <td>1</td>\n",
       "      <td>0.002258</td>\n",
       "      <td>0.001473</td>\n",
       "      <td>0</td>\n",
       "      <td>0</td>\n",
       "      <td>5376</td>\n",
       "      <td>14.830351</td>\n",
       "      <td>9.098083</td>\n",
       "      <td>1017.830990</td>\n",
       "      <td>220.718850</td>\n",
       "      <td>4.124441</td>\n",
       "    </tr>\n",
       "    <tr>\n",
       "      <th>3</th>\n",
       "      <td>3</td>\n",
       "      <td>0</td>\n",
       "      <td>1</td>\n",
       "      <td>0.000000</td>\n",
       "      <td>0.000000</td>\n",
       "      <td>0</td>\n",
       "      <td>0</td>\n",
       "      <td>23685</td>\n",
       "      <td>14.830351</td>\n",
       "      <td>9.098083</td>\n",
       "      <td>1017.830990</td>\n",
       "      <td>220.718850</td>\n",
       "      <td>4.124441</td>\n",
       "    </tr>\n",
       "    <tr>\n",
       "      <th>4</th>\n",
       "      <td>4</td>\n",
       "      <td>0</td>\n",
       "      <td>1</td>\n",
       "      <td>0.148025</td>\n",
       "      <td>0.007687</td>\n",
       "      <td>0</td>\n",
       "      <td>0</td>\n",
       "      <td>116607</td>\n",
       "      <td>14.830351</td>\n",
       "      <td>9.098083</td>\n",
       "      <td>1017.830990</td>\n",
       "      <td>220.718850</td>\n",
       "      <td>4.124441</td>\n",
       "    </tr>\n",
       "    <tr>\n",
       "      <th>...</th>\n",
       "      <td>...</td>\n",
       "      <td>...</td>\n",
       "      <td>...</td>\n",
       "      <td>...</td>\n",
       "      <td>...</td>\n",
       "      <td>...</td>\n",
       "      <td>...</td>\n",
       "      <td>...</td>\n",
       "      <td>...</td>\n",
       "      <td>...</td>\n",
       "      <td>...</td>\n",
       "      <td>...</td>\n",
       "      <td>...</td>\n",
       "    </tr>\n",
       "    <tr>\n",
       "      <th>27259</th>\n",
       "      <td>1444</td>\n",
       "      <td>0</td>\n",
       "      <td>8</td>\n",
       "      <td>5.568761</td>\n",
       "      <td>1.846364</td>\n",
       "      <td>15</td>\n",
       "      <td>1</td>\n",
       "      <td>19619</td>\n",
       "      <td>22.616636</td>\n",
       "      <td>17.500555</td>\n",
       "      <td>1017.525878</td>\n",
       "      <td>188.983364</td>\n",
       "      <td>3.366359</td>\n",
       "    </tr>\n",
       "    <tr>\n",
       "      <th>27260</th>\n",
       "      <td>1445</td>\n",
       "      <td>0</td>\n",
       "      <td>8</td>\n",
       "      <td>4.237983</td>\n",
       "      <td>1.609875</td>\n",
       "      <td>15</td>\n",
       "      <td>0</td>\n",
       "      <td>4298</td>\n",
       "      <td>22.616636</td>\n",
       "      <td>17.500555</td>\n",
       "      <td>1017.525878</td>\n",
       "      <td>188.983364</td>\n",
       "      <td>3.366359</td>\n",
       "    </tr>\n",
       "    <tr>\n",
       "      <th>27261</th>\n",
       "      <td>1446</td>\n",
       "      <td>0</td>\n",
       "      <td>8</td>\n",
       "      <td>3.391467</td>\n",
       "      <td>0.949666</td>\n",
       "      <td>15</td>\n",
       "      <td>1</td>\n",
       "      <td>11265</td>\n",
       "      <td>22.616636</td>\n",
       "      <td>17.500555</td>\n",
       "      <td>1017.525878</td>\n",
       "      <td>188.983364</td>\n",
       "      <td>3.366359</td>\n",
       "    </tr>\n",
       "    <tr>\n",
       "      <th>27262</th>\n",
       "      <td>1447</td>\n",
       "      <td>0</td>\n",
       "      <td>8</td>\n",
       "      <td>180.494730</td>\n",
       "      <td>5.193564</td>\n",
       "      <td>15</td>\n",
       "      <td>4</td>\n",
       "      <td>29775</td>\n",
       "      <td>22.616636</td>\n",
       "      <td>17.500555</td>\n",
       "      <td>1017.525878</td>\n",
       "      <td>188.983364</td>\n",
       "      <td>3.366359</td>\n",
       "    </tr>\n",
       "    <tr>\n",
       "      <th>27263</th>\n",
       "      <td>1448</td>\n",
       "      <td>0</td>\n",
       "      <td>8</td>\n",
       "      <td>3.328552</td>\n",
       "      <td>1.452034</td>\n",
       "      <td>15</td>\n",
       "      <td>6</td>\n",
       "      <td>92271</td>\n",
       "      <td>22.616636</td>\n",
       "      <td>17.500555</td>\n",
       "      <td>1017.525878</td>\n",
       "      <td>188.983364</td>\n",
       "      <td>3.366359</td>\n",
       "    </tr>\n",
       "  </tbody>\n",
       "</table>\n",
       "<p>27264 rows × 13 columns</p>\n",
       "</div>"
      ],
      "text/plain": [
       "       building_id  meter  month  meter_reading  meter_reading_log  site_id  \\\n",
       "0                0      0      1       0.148491           0.013622        0   \n",
       "1                1      0      1       0.502991           0.075676        0   \n",
       "2                2      0      1       0.002258           0.001473        0   \n",
       "3                3      0      1       0.000000           0.000000        0   \n",
       "4                4      0      1       0.148025           0.007687        0   \n",
       "...            ...    ...    ...            ...                ...      ...   \n",
       "27259         1444      0      8       5.568761           1.846364       15   \n",
       "27260         1445      0      8       4.237983           1.609875       15   \n",
       "27261         1446      0      8       3.391467           0.949666       15   \n",
       "27262         1447      0      8     180.494730           5.193564       15   \n",
       "27263         1448      0      8       3.328552           1.452034       15   \n",
       "\n",
       "       primary_use  square_feet  air_temperature  dew_temperature  \\\n",
       "0                0         7432        14.830351         9.098083   \n",
       "1                0         2720        14.830351         9.098083   \n",
       "2                0         5376        14.830351         9.098083   \n",
       "3                0        23685        14.830351         9.098083   \n",
       "4                0       116607        14.830351         9.098083   \n",
       "...            ...          ...              ...              ...   \n",
       "27259            1        19619        22.616636        17.500555   \n",
       "27260            0         4298        22.616636        17.500555   \n",
       "27261            1        11265        22.616636        17.500555   \n",
       "27262            4        29775        22.616636        17.500555   \n",
       "27263            6        92271        22.616636        17.500555   \n",
       "\n",
       "       sea_level_pressure  wind_direction  wind_speed  \n",
       "0             1017.830990      220.718850    4.124441  \n",
       "1             1017.830990      220.718850    4.124441  \n",
       "2             1017.830990      220.718850    4.124441  \n",
       "3             1017.830990      220.718850    4.124441  \n",
       "4             1017.830990      220.718850    4.124441  \n",
       "...                   ...             ...         ...  \n",
       "27259         1017.525878      188.983364    3.366359  \n",
       "27260         1017.525878      188.983364    3.366359  \n",
       "27261         1017.525878      188.983364    3.366359  \n",
       "27262         1017.525878      188.983364    3.366359  \n",
       "27263         1017.525878      188.983364    3.366359  \n",
       "\n",
       "[27264 rows x 13 columns]"
      ]
     },
     "execution_count": 89,
     "metadata": {},
     "output_type": "execute_result"
    }
   ],
   "source": [
    "#encode columns to be able to build models for it\n",
    "encoder = LabelEncoder()\n",
    "merged_df['primary_use'] = encoder.fit_transform(merged_df['primary_use'])\n",
    "merged_df['meter'].replace({\"electricity\":0, \"chilledwater\":1, \"steam\":2, \"hotwater\":3},inplace=True)\n",
    "\n",
    "merged_df"
   ]
  },
  {
   "cell_type": "code",
   "execution_count": null,
   "id": "liquid-relative",
   "metadata": {
    "id": "liquid-relative"
   },
   "outputs": [],
   "source": [
    "merged_df.to_csv(\"merged_df.csv\", index=False)"
   ]
  },
  {
   "cell_type": "markdown",
   "id": "chicken-puppy",
   "metadata": {
    "id": "chicken-puppy"
   },
   "source": [
    "## Kmeans clustering"
   ]
  },
  {
   "cell_type": "code",
   "execution_count": 1,
   "id": "discrete-hours",
   "metadata": {
    "colab": {
     "base_uri": "https://localhost:8080/"
    },
    "id": "discrete-hours",
    "outputId": "ea71b705-fe14-47f0-941f-c4847584907a"
   },
   "outputs": [
    {
     "name": "stdout",
     "output_type": "stream",
     "text": [
      "Looking in indexes: https://pypi.org/simple, https://us-python.pkg.dev/colab-wheels/public/simple/\n",
      "Collecting pyspark\n",
      "  Downloading pyspark-3.2.1.tar.gz (281.4 MB)\n",
      "\u001b[K     |████████████████████████████████| 281.4 MB 35 kB/s \n",
      "\u001b[33mWARNING: Retrying (Retry(total=4, connect=None, read=None, redirect=None, status=None)) after connection broken by 'ProtocolError('Connection aborted.', ConnectionResetError(104, 'Connection reset by peer'))': /simple/py4j/\u001b[0m\n",
      "\u001b[?25hCollecting py4j==0.10.9.3\n",
      "  Downloading py4j-0.10.9.3-py2.py3-none-any.whl (198 kB)\n",
      "\u001b[K     |████████████████████████████████| 198 kB 43.2 MB/s \n",
      "\u001b[?25hBuilding wheels for collected packages: pyspark\n",
      "  Building wheel for pyspark (setup.py) ... \u001b[?25l\u001b[?25hdone\n",
      "  Created wheel for pyspark: filename=pyspark-3.2.1-py2.py3-none-any.whl size=281853642 sha256=cf0d61875e38ea6abc5ef9e1391cdf44c5a67f5a8a31af91a7ec54931fc8dc4c\n",
      "  Stored in directory: /root/.cache/pip/wheels/9f/f5/07/7cd8017084dce4e93e84e92efd1e1d5334db05f2e83bcef74f\n",
      "Successfully built pyspark\n",
      "Installing collected packages: py4j, pyspark\n",
      "Successfully installed py4j-0.10.9.3 pyspark-3.2.1\n"
     ]
    }
   ],
   "source": [
    "pip install pyspark"
   ]
  },
  {
   "cell_type": "code",
   "execution_count": 2,
   "id": "saving-authorization",
   "metadata": {},
   "outputs": [],
   "source": [
    "import findspark\n",
    "findspark.init()"
   ]
  },
  {
   "cell_type": "code",
   "execution_count": 3,
   "id": "loaded-tobacco",
   "metadata": {
    "id": "loaded-tobacco"
   },
   "outputs": [],
   "source": [
    "import pyspark\n",
    "from pyspark import SparkContext"
   ]
  },
  {
   "cell_type": "code",
   "execution_count": 4,
   "id": "nearby-jason",
   "metadata": {
    "id": "nearby-jason"
   },
   "outputs": [],
   "source": [
    "from pyspark.sql import SparkSession\n",
    "\n",
    "spark = SparkSession.builder.appName('Clustering using K-Means').getOrCreate()"
   ]
  },
  {
   "cell_type": "code",
   "execution_count": 5,
   "id": "thermal-complaint",
   "metadata": {
    "id": "thermal-complaint"
   },
   "outputs": [],
   "source": [
    "df = spark.read.csv('merged_df.csv', header=True, inferSchema=True)"
   ]
  },
  {
   "cell_type": "code",
   "execution_count": 6,
   "id": "choice-simpson",
   "metadata": {
    "colab": {
     "base_uri": "https://localhost:8080/"
    },
    "id": "choice-simpson",
    "outputId": "9fd68a78-34c1-49a8-e677-f43a172e89a5"
   },
   "outputs": [
    {
     "name": "stdout",
     "output_type": "stream",
     "text": [
      "root\n",
      " |-- building_id: integer (nullable = true)\n",
      " |-- meter: integer (nullable = true)\n",
      " |-- month: integer (nullable = true)\n",
      " |-- meter_reading: double (nullable = true)\n",
      " |-- meter_reading_log: double (nullable = true)\n",
      " |-- site_id: integer (nullable = true)\n",
      " |-- primary_use: integer (nullable = true)\n",
      " |-- square_feet: integer (nullable = true)\n",
      " |-- air_temperature: double (nullable = true)\n",
      " |-- dew_temperature: double (nullable = true)\n",
      " |-- sea_level_pressure: double (nullable = true)\n",
      " |-- wind_direction: double (nullable = true)\n",
      " |-- wind_speed: double (nullable = true)\n",
      "\n"
     ]
    }
   ],
   "source": [
    "df.printSchema()"
   ]
  },
  {
   "cell_type": "code",
   "execution_count": 7,
   "id": "sporting-jacob",
   "metadata": {
    "colab": {
     "base_uri": "https://localhost:8080/"
    },
    "id": "sporting-jacob",
    "outputId": "09a08ba4-97a1-4fe2-cc70-f3c54e58e291"
   },
   "outputs": [
    {
     "data": {
      "text/plain": [
       "['building_id',\n",
       " 'meter',\n",
       " 'month',\n",
       " 'meter_reading',\n",
       " 'meter_reading_log',\n",
       " 'site_id',\n",
       " 'primary_use',\n",
       " 'square_feet',\n",
       " 'air_temperature',\n",
       " 'dew_temperature',\n",
       " 'sea_level_pressure',\n",
       " 'wind_direction',\n",
       " 'wind_speed']"
      ]
     },
     "execution_count": 7,
     "metadata": {},
     "output_type": "execute_result"
    }
   ],
   "source": [
    "df.columns"
   ]
  },
  {
   "cell_type": "code",
   "execution_count": 8,
   "id": "unexpected-corps",
   "metadata": {
    "colab": {
     "base_uri": "https://localhost:8080/"
    },
    "id": "unexpected-corps",
    "outputId": "859b4299-4ea2-4ef9-cb4f-46202b8da27e"
   },
   "outputs": [
    {
     "name": "stdout",
     "output_type": "stream",
     "text": [
      "+-------+--------------------+\n",
      "|site_id|            features|\n",
      "+-------+--------------------+\n",
      "|      0|[0.0,0.1484912248...|\n",
      "|      0|[0.0,0.5029905017...|\n",
      "|      0|[0.0,0.0022584558...|\n",
      "|      0|[0.0,0.0,0.0,0.0,...|\n",
      "|      0|[0.0,0.1480251290...|\n",
      "|      0|[0.0,0.0074192028...|\n",
      "|      0|[0.0,0.0,0.0,4.0,...|\n",
      "|      0|[0.0,0.0,0.0,0.0,...|\n",
      "|      0|[0.0,0.0,0.0,0.0,...|\n",
      "|      0|[0.0,0.0,0.0,6.0,...|\n",
      "|      0|[0.0,0.0,0.0,1.0,...|\n",
      "|      0|[0.0,1.6593674911...|\n",
      "|      0|[0.0,0.9098783303...|\n",
      "|      0|[0.0,0.0,0.0,0.0,...|\n",
      "|      0|[0.0,0.1844756756...|\n",
      "|      0|[0.0,0.0,0.0,6.0,...|\n",
      "|      0|[0.0,7.2232663043...|\n",
      "|      0|[0.0,0.0,0.0,6.0,...|\n",
      "|      0|[0.0,0.0,0.0,0.0,...|\n",
      "|      0|[0.0,0.0,0.0,6.0,...|\n",
      "+-------+--------------------+\n",
      "only showing top 20 rows\n",
      "\n"
     ]
    }
   ],
   "source": [
    "from pyspark.ml.feature import VectorAssembler\n",
    "\n",
    "feature_cols = ['meter',\n",
    " 'meter_reading',\n",
    " 'meter_reading_log',\n",
    " 'primary_use',\n",
    " 'square_feet',\n",
    " 'air_temperature',\n",
    " 'dew_temperature',\n",
    " 'sea_level_pressure',\n",
    " 'wind_direction',\n",
    " 'wind_speed']\n",
    "feature_vector=VectorAssembler(inputCols=feature_cols, outputCol='features')\n",
    "\n",
    "data = feature_vector.transform(df)\n",
    "final_data = feature_vector.transform(df).select('site_id', 'features')\n",
    "final_data.show()"
   ]
  },
  {
   "cell_type": "code",
   "execution_count": 9,
   "id": "corrected-hobby",
   "metadata": {
    "colab": {
     "base_uri": "https://localhost:8080/"
    },
    "id": "corrected-hobby",
    "outputId": "06b07f18-7c72-4c27-a312-46f40e1d405e"
   },
   "outputs": [
    {
     "name": "stdout",
     "output_type": "stream",
     "text": [
      "+-------+--------------------+--------------------+\n",
      "|site_id|            features|           zfeatures|\n",
      "+-------+--------------------+--------------------+\n",
      "|      0|[0.0,0.1484912248...|[0.0,1.1366363316...|\n",
      "|      0|[0.0,0.5029905017...|[0.0,3.8501755194...|\n",
      "|      0|[0.0,0.0022584558...|[0.0,1.7287506461...|\n",
      "|      0|[0.0,0.0,0.0,0.0,...|[0.0,0.0,0.0,0.0,...|\n",
      "|      0|[0.0,0.1480251290...|[0.0,1.1330685693...|\n",
      "|      0|[0.0,0.0074192028...|[0.0,5.6790800765...|\n",
      "|      0|[0.0,0.0,0.0,4.0,...|[0.0,0.0,0.0,1.15...|\n",
      "|      0|[0.0,0.0,0.0,0.0,...|[0.0,0.0,0.0,0.0,...|\n",
      "|      0|[0.0,0.0,0.0,0.0,...|[0.0,0.0,0.0,0.0,...|\n",
      "|      0|[0.0,0.0,0.0,6.0,...|[0.0,0.0,0.0,1.73...|\n",
      "|      0|[0.0,0.0,0.0,1.0,...|[0.0,0.0,0.0,0.28...|\n",
      "|      0|[0.0,1.6593674911...|[0.0,1.2701743014...|\n",
      "|      0|[0.0,0.9098783303...|[0.0,6.9647264924...|\n",
      "|      0|[0.0,0.0,0.0,0.0,...|[0.0,0.0,0.0,0.0,...|\n",
      "|      0|[0.0,0.1844756756...|[0.0,1.4120817945...|\n",
      "|      0|[0.0,0.0,0.0,6.0,...|[0.0,0.0,0.0,1.73...|\n",
      "|      0|[0.0,7.2232663043...|[0.0,5.5290990578...|\n",
      "|      0|[0.0,0.0,0.0,6.0,...|[0.0,0.0,0.0,1.73...|\n",
      "|      0|[0.0,0.0,0.0,0.0,...|[0.0,0.0,0.0,0.0,...|\n",
      "|      0|[0.0,0.0,0.0,6.0,...|[0.0,0.0,0.0,1.73...|\n",
      "+-------+--------------------+--------------------+\n",
      "only showing top 20 rows\n",
      "\n"
     ]
    }
   ],
   "source": [
    "from pyspark.ml.feature import StandardScaler\n",
    "\n",
    "scaler = StandardScaler(inputCol='features',outputCol='zfeatures', withStd=True, withMean=False)\n",
    "\n",
    "scalerModel = scaler.fit(final_data)\n",
    "cluster_input_data=scalerModel.transform(final_data)\n",
    "cluster_input_data.show()"
   ]
  },
  {
   "cell_type": "code",
   "execution_count": 10,
   "id": "adaptive-disclosure",
   "metadata": {
    "id": "adaptive-disclosure"
   },
   "outputs": [],
   "source": [
    "from pyspark.ml.clustering import KMeans\n",
    "from pyspark.ml.evaluation import ClusteringEvaluator"
   ]
  },
  {
   "cell_type": "code",
   "execution_count": 10,
   "id": "innocent-soldier",
   "metadata": {
    "colab": {
     "base_uri": "https://localhost:8080/"
    },
    "id": "innocent-soldier",
    "outputId": "251df8bd-4a4e-48a8-b5cb-536d6a0b9935"
   },
   "outputs": [
    {
     "name": "stdout",
     "output_type": "stream",
     "text": [
      "At k =  2  Silhouette Score:  0.3217998344915905\n",
      "At k =  3  Silhouette Score:  0.24863721725405394\n",
      "At k =  4  Silhouette Score:  0.14230291129616907\n",
      "At k =  5  Silhouette Score:  0.1709519440594425\n",
      "At k =  6  Silhouette Score:  0.20310379765310355\n",
      "At k =  7  Silhouette Score:  0.19716730358419113\n",
      "At k =  8  Silhouette Score:  0.20319118980168652\n",
      "At k =  9  Silhouette Score:  0.202742009800043\n",
      "At k =  10  Silhouette Score:  0.2376494014945021\n",
      "At k =  11  Silhouette Score:  0.24578372560206238\n",
      "At k =  12  Silhouette Score:  0.24982672203131476\n",
      "At k =  13  Silhouette Score:  0.2444498269183011\n",
      "At k =  14  Silhouette Score:  0.2428431037758012\n",
      "At k =  15  Silhouette Score:  0.24195157363973718\n",
      "At k =  16  Silhouette Score:  0.2338244699283147\n",
      "At k =  17  Silhouette Score:  0.24793996201434568\n",
      "At k =  18  Silhouette Score:  0.20565827588700308\n",
      "At k =  19  Silhouette Score:  0.2585083220484422\n",
      "At k =  20  Silhouette Score:  0.24740178999019255\n",
      "At k =  21  Silhouette Score:  0.2512311493050058\n",
      "At k =  22  Silhouette Score:  0.24091718878074617\n",
      "At k =  23  Silhouette Score:  0.24661217846905775\n",
      "At k =  24  Silhouette Score:  0.24730007669159976\n",
      "At k =  25  Silhouette Score:  0.25481917472795806\n",
      "done\n"
     ]
    }
   ],
   "source": [
    "silhouette_score=[]\n",
    "evaluator = ClusteringEvaluator(predictionCol='prediction', featuresCol='zfeatures', \\\n",
    "                                metricName='silhouette', distanceMeasure='squaredEuclidean')\n",
    "for i in range(2,26):\n",
    "    KMeans_algo=KMeans(featuresCol='zfeatures', k=i)   \n",
    "    KMeans_fit=KMeans_algo.fit(cluster_input_data)\n",
    "    output=KMeans_fit.transform(cluster_input_data)\n",
    "    score=evaluator.evaluate(output)\n",
    "    silhouette_score.append(score)\n",
    "    \n",
    "    print(\"At k = \", i , \" Silhouette Score: \",score)\n",
    "    \n",
    "print(\"done\")"
   ]
  },
  {
   "cell_type": "code",
   "execution_count": null,
   "id": "convinced-cincinnati",
   "metadata": {
    "id": "convinced-cincinnati",
    "outputId": "5e610cd8-082c-4f5e-98b5-cd381f8484e8"
   },
   "outputs": [
    {
     "data": {
      "text/plain": [
       "Text(0, 0.5, 'cost')"
      ]
     },
     "execution_count": 102,
     "metadata": {},
     "output_type": "execute_result"
    },
    {
     "data": {
      "image/png": "[encoded data removed]",
      "text/plain": [
       "<Figure size 576x432 with 1 Axes>"
      ]
     },
     "metadata": {
      "needs_background": "light"
     },
     "output_type": "display_data"
    }
   ],
   "source": [
    "#Visualizing the silhouette scores in a plot\n",
    "import matplotlib.pyplot as plt\n",
    "fig, ax = plt.subplots(1,1, figsize =(8,6))\n",
    "ax.plot(range(2,26),silhouette_score)\n",
    "ax.set_xlabel('k')\n",
    "ax.set_ylabel('cost')"
   ]
  },
  {
   "cell_type": "markdown",
   "id": "trying-update",
   "metadata": {
    "id": "trying-update"
   },
   "source": [
    "Th optimal number of clusters is 11"
   ]
  },
  {
   "cell_type": "code",
   "execution_count": 11,
   "id": "exclusive-associate",
   "metadata": {
    "id": "exclusive-associate"
   },
   "outputs": [],
   "source": [
    "k=11\n",
    "kmeans= KMeans(featuresCol='zfeatures', k=k)\n",
    "model = kmeans.fit(cluster_input_data)"
   ]
  },
  {
   "cell_type": "code",
   "execution_count": 12,
   "id": "classical-conditioning",
   "metadata": {
    "colab": {
     "base_uri": "https://localhost:8080/"
    },
    "id": "classical-conditioning",
    "outputId": "a62d38ed-8c70-46f9-dc42-4dfe7f4667e4",
    "scrolled": true
   },
   "outputs": [
    {
     "name": "stdout",
     "output_type": "stream",
     "text": [
      "+-------+--------------------+--------------------+----------+\n",
      "|site_id|            features|           zfeatures|prediction|\n",
      "+-------+--------------------+--------------------+----------+\n",
      "|      0|[0.0,0.1484912248...|[0.0,1.1366363316...|         5|\n",
      "|      0|[0.0,0.5029905017...|[0.0,3.8501755194...|         5|\n",
      "|      0|[0.0,0.0022584558...|[0.0,1.7287506461...|         5|\n",
      "|      0|[0.0,0.0,0.0,0.0,...|[0.0,0.0,0.0,0.0,...|         5|\n",
      "|      0|[0.0,0.1480251290...|[0.0,1.1330685693...|         5|\n",
      "|      0|[0.0,0.0074192028...|[0.0,5.6790800765...|         5|\n",
      "|      0|[0.0,0.0,0.0,4.0,...|[0.0,0.0,0.0,1.15...|         3|\n",
      "|      0|[0.0,0.0,0.0,0.0,...|[0.0,0.0,0.0,0.0,...|         5|\n",
      "|      0|[0.0,0.0,0.0,0.0,...|[0.0,0.0,0.0,0.0,...|         5|\n",
      "|      0|[0.0,0.0,0.0,6.0,...|[0.0,0.0,0.0,1.73...|         3|\n",
      "+-------+--------------------+--------------------+----------+\n",
      "only showing top 10 rows\n",
      "\n"
     ]
    }
   ],
   "source": [
    "clust_output = model.transform(cluster_input_data)\n",
    "clust_output.show(10)"
   ]
  },
  {
   "cell_type": "code",
   "execution_count": 13,
   "id": "typical-bundle",
   "metadata": {
    "colab": {
     "base_uri": "https://localhost:8080/"
    },
    "id": "typical-bundle",
    "outputId": "63b2a2ed-30f5-4a0e-ee9b-d26443365605"
   },
   "outputs": [
    {
     "name": "stdout",
     "output_type": "stream",
     "text": [
      "+----------+-----+\n",
      "|prediction|count|\n",
      "+----------+-----+\n",
      "|         1| 3078|\n",
      "|         6|    4|\n",
      "|         3| 3568|\n",
      "|         5| 3723|\n",
      "|         9|  954|\n",
      "|         4| 2082|\n",
      "|         8| 1992|\n",
      "|         7| 2319|\n",
      "|        10| 2901|\n",
      "|         2| 3601|\n",
      "|         0| 3042|\n",
      "+----------+-----+\n",
      "\n"
     ]
    }
   ],
   "source": [
    "clust_output.groupby('prediction').count().show()"
   ]
  },
  {
   "cell_type": "code",
   "execution_count": 14,
   "id": "auburn-credit",
   "metadata": {
    "colab": {
     "base_uri": "https://localhost:8080/"
    },
    "id": "auburn-credit",
    "outputId": "e178fd7d-3917-4922-c67a-cf757839418c"
   },
   "outputs": [
    {
     "name": "stdout",
     "output_type": "stream",
     "text": [
      "+-------+--------------------+--------------------+----------+\n",
      "|site_id|            features|           zfeatures|prediction|\n",
      "+-------+--------------------+--------------------+----------+\n",
      "|      0|[0.0,0.1484912248...|[0.0,1.1366363316...|         5|\n",
      "|      0|[0.0,0.5029905017...|[0.0,3.8501755194...|         5|\n",
      "|      0|[0.0,0.0022584558...|[0.0,1.7287506461...|         5|\n",
      "|      0|[0.0,0.0,0.0,0.0,...|[0.0,0.0,0.0,0.0,...|         5|\n",
      "|      0|[0.0,0.1480251290...|[0.0,1.1330685693...|         5|\n",
      "|      0|[0.0,0.0074192028...|[0.0,5.6790800765...|         5|\n",
      "|      0|[0.0,0.0,0.0,4.0,...|[0.0,0.0,0.0,1.15...|         3|\n",
      "|      0|[0.0,0.0,0.0,0.0,...|[0.0,0.0,0.0,0.0,...|         5|\n",
      "|      0|[0.0,0.0,0.0,0.0,...|[0.0,0.0,0.0,0.0,...|         5|\n",
      "|      0|[0.0,0.0,0.0,6.0,...|[0.0,0.0,0.0,1.73...|         3|\n",
      "|      0|[0.0,0.0,0.0,1.0,...|[0.0,0.0,0.0,0.28...|         5|\n",
      "|      0|[0.0,1.6593674911...|[0.0,1.2701743014...|         5|\n",
      "|      0|[0.0,0.9098783303...|[0.0,6.9647264924...|         3|\n",
      "|      0|[0.0,0.0,0.0,0.0,...|[0.0,0.0,0.0,0.0,...|         5|\n",
      "|      0|[0.0,0.1844756756...|[0.0,1.4120817945...|         5|\n",
      "|      0|[0.0,0.0,0.0,6.0,...|[0.0,0.0,0.0,1.73...|         3|\n",
      "|      0|[0.0,7.2232663043...|[0.0,5.5290990578...|         5|\n",
      "|      0|[0.0,0.0,0.0,6.0,...|[0.0,0.0,0.0,1.73...|         3|\n",
      "|      0|[0.0,0.0,0.0,0.0,...|[0.0,0.0,0.0,0.0,...|         5|\n",
      "|      0|[0.0,0.0,0.0,6.0,...|[0.0,0.0,0.0,1.73...|         3|\n",
      "+-------+--------------------+--------------------+----------+\n",
      "only showing top 20 rows\n",
      "\n"
     ]
    }
   ],
   "source": [
    "rows = clust_output.collect()\n",
    "df_pred = spark.createDataFrame(rows)\n",
    "df_pred.show()"
   ]
  },
  {
   "cell_type": "code",
   "execution_count": 15,
   "id": "challenging-banking",
   "metadata": {
    "colab": {
     "base_uri": "https://localhost:8080/"
    },
    "id": "challenging-banking",
    "outputId": "7208fc69-bfb3-4ac8-aa71-613c1b02c365"
   },
   "outputs": [
    {
     "name": "stdout",
     "output_type": "stream",
     "text": [
      "root\n",
      " |-- site_id: long (nullable = true)\n",
      " |-- features: vector (nullable = true)\n",
      " |-- zfeatures: vector (nullable = true)\n",
      " |-- prediction: long (nullable = true)\n",
      "\n"
     ]
    }
   ],
   "source": [
    "df_pred.printSchema()"
   ]
  },
  {
   "cell_type": "code",
   "execution_count": 16,
   "id": "boxed-paradise",
   "metadata": {
    "id": "boxed-paradise"
   },
   "outputs": [],
   "source": [
    "X = df_pred.rdd.map(lambda x:[float(y) for y in x['features']]).toDF(feature_cols)"
   ]
  },
  {
   "cell_type": "code",
   "execution_count": 17,
   "id": "italian-feelings",
   "metadata": {
    "colab": {
     "base_uri": "https://localhost:8080/"
    },
    "id": "italian-feelings",
    "outputId": "ab7a1b26-8471-4d80-8e46-c7d56353925d"
   },
   "outputs": [
    {
     "name": "stdout",
     "output_type": "stream",
     "text": [
      "+-----+--------------------+--------------------+-----------+-----------+------------------+-----------------+------------------+-----------------+------------------+-------+----------+\n",
      "|meter|       meter_reading|   meter_reading_log|primary_use|square_feet|   air_temperature|  dew_temperature|sea_level_pressure|   wind_direction|        wind_speed|site_id|prediction|\n",
      "+-----+--------------------+--------------------+-----------+-----------+------------------+-----------------+------------------+-----------------+------------------+-------+----------+\n",
      "|  0.0|  0.1484912248628885| 0.01362217674258455|        0.0|     7432.0|14.830351437699683|9.098083067092665|1017.8309904153361|220.7188498402556|4.1244408945686555|      0|         5|\n",
      "|  0.0|  0.5029905017921147| 0.07567642121546515|        0.0|     2720.0|14.830351437699683|9.098083067092665|1017.8309904153361|220.7188498402556|4.1244408945686555|      0|         5|\n",
      "|  0.0|0.002258455882352941|0.001473113208880...|        0.0|     5376.0|14.830351437699683|9.098083067092665|1017.8309904153361|220.7188498402556|4.1244408945686555|      0|         5|\n",
      "|  0.0|                 0.0|                 0.0|        0.0|    23685.0|14.830351437699683|9.098083067092665|1017.8309904153361|220.7188498402556|4.1244408945686555|      0|         5|\n",
      "|  0.0|  0.1480251290877797|0.007686640281007755|        0.0|   116607.0|14.830351437699683|9.098083067092665|1017.8309904153361|220.7188498402556|4.1244408945686555|      0|         5|\n",
      "|  0.0|0.007419202898550724|0.004430891378755459|        0.0|     8000.0|14.830351437699683|9.098083067092665|1017.8309904153361|220.7188498402556|4.1244408945686555|      0|         5|\n",
      "|  0.0|                 0.0|                 0.0|        4.0|    27926.0|14.830351437699683|9.098083067092665|1017.8309904153361|220.7188498402556|4.1244408945686555|      0|         3|\n",
      "|  0.0|                 0.0|                 0.0|        0.0|   121074.0|14.830351437699683|9.098083067092665|1017.8309904153361|220.7188498402556|4.1244408945686555|      0|         5|\n",
      "|  0.0|                 0.0|                 0.0|        0.0|    60809.0|14.830351437699683|9.098083067092665|1017.8309904153361|220.7188498402556|4.1244408945686555|      0|         5|\n",
      "|  0.0|                 0.0|                 0.0|        6.0|    27000.0|14.830351437699683|9.098083067092665|1017.8309904153361|220.7188498402556|4.1244408945686555|      0|         3|\n",
      "|  0.0|                 0.0|                 0.0|        1.0|   370773.0|14.830351437699683|9.098083067092665|1017.8309904153361|220.7188498402556|4.1244408945686555|      0|         5|\n",
      "|  0.0|  1.6593674911660776| 0.06747590715320322|        0.0|    49073.0|14.830351437699683|9.098083067092665|1017.8309904153361|220.7188498402556|4.1244408945686555|      0|         5|\n",
      "|  0.0|  0.9098783303730017|0.053470037352233005|        4.0|    37100.0|14.830351437699683|9.098083067092665|1017.8309904153361|220.7188498402556|4.1244408945686555|      0|         3|\n",
      "|  0.0|                 0.0|                 0.0|        0.0|    99380.0|14.830351437699683|9.098083067092665|1017.8309904153361|220.7188498402556|4.1244408945686555|      0|         5|\n",
      "|  0.0|  0.1844756756756757|0.008357567948149352|        0.0|    86250.0|14.830351437699683|9.098083067092665|1017.8309904153361|220.7188498402556|4.1244408945686555|      0|         5|\n",
      "|  0.0|                 0.0|                 0.0|        6.0|    83957.0|14.830351437699683|9.098083067092665|1017.8309904153361|220.7188498402556|4.1244408945686555|      0|         3|\n",
      "|  0.0|   7.223266304347825|  0.1262724936168163|        0.0|    54644.0|14.830351437699683|9.098083067092665|1017.8309904153361|220.7188498402556|4.1244408945686555|      0|         5|\n",
      "|  0.0|                 0.0|                 0.0|        6.0|    15250.0|14.830351437699683|9.098083067092665|1017.8309904153361|220.7188498402556|4.1244408945686555|      0|         3|\n",
      "|  0.0|                 0.0|                 0.0|        0.0|   111891.0|14.830351437699683|9.098083067092665|1017.8309904153361|220.7188498402556|4.1244408945686555|      0|         5|\n",
      "|  0.0|                 0.0|                 0.0|        6.0|    18717.0|14.830351437699683|9.098083067092665|1017.8309904153361|220.7188498402556|4.1244408945686555|      0|         3|\n",
      "+-----+--------------------+--------------------+-----------+-----------+------------------+-----------------+------------------+-----------------+------------------+-------+----------+\n",
      "only showing top 20 rows\n",
      "\n"
     ]
    }
   ],
   "source": [
    "from pyspark.sql.functions import monotonically_increasing_id, row_number\n",
    "from pyspark.sql.window import Window\n",
    "\n",
    "df_pred = df_pred.drop(\"features\", \"zfeatures\")\n",
    "df_pred = df_pred.withColumn('row_index', row_number().over(Window.orderBy(monotonically_increasing_id())))\n",
    "X = X.withColumn('row_index', row_number().over(Window.orderBy(monotonically_increasing_id())))\n",
    "\n",
    "final_pred_df = X.join(df_pred, on=[\"row_index\"]).drop(\"row_index\")\n",
    "final_pred_df.show()"
   ]
  },
  {
   "cell_type": "markdown",
   "id": "leading-worthy",
   "metadata": {
    "id": "leading-worthy"
   },
   "source": [
    "## SparkML preprocessing"
   ]
  },
  {
   "cell_type": "code",
   "execution_count": 18,
   "id": "trained-wrist",
   "metadata": {
    "id": "trained-wrist"
   },
   "outputs": [],
   "source": [
    "final_pred_df = final_pred_df.drop(\"meter_reading\")"
   ]
  },
  {
   "cell_type": "code",
   "execution_count": 19,
   "id": "urban-fleece",
   "metadata": {
    "colab": {
     "base_uri": "https://localhost:8080/"
    },
    "id": "urban-fleece",
    "outputId": "fe5568f7-6c3c-42e9-d91c-0d332c622d5b"
   },
   "outputs": [
    {
     "name": "stdout",
     "output_type": "stream",
     "text": [
      "+--------------------+--------------------+----------+\n",
      "|   meter_reading_log|            features|prediction|\n",
      "+--------------------+--------------------+----------+\n",
      "| 0.01362217674258455|[0.0,0.0,0.0,7432...|         5|\n",
      "| 0.07567642121546515|[0.0,0.0,0.0,2720...|         5|\n",
      "|0.001473113208880...|[0.0,0.0,0.0,5376...|         5|\n",
      "|                 0.0|[0.0,0.0,0.0,2368...|         5|\n",
      "|0.007686640281007755|[0.0,0.0,0.0,1166...|         5|\n",
      "|0.004430891378755459|[0.0,0.0,0.0,8000...|         5|\n",
      "|                 0.0|[0.0,0.0,4.0,2792...|         3|\n",
      "|                 0.0|[0.0,0.0,0.0,1210...|         5|\n",
      "|                 0.0|[0.0,0.0,0.0,6080...|         5|\n",
      "|                 0.0|[0.0,0.0,6.0,2700...|         3|\n",
      "|                 0.0|[0.0,0.0,1.0,3707...|         5|\n",
      "| 0.06747590715320322|[0.0,0.0,0.0,4907...|         5|\n",
      "|0.053470037352233005|[0.0,0.0,4.0,3710...|         3|\n",
      "|                 0.0|[0.0,0.0,0.0,9938...|         5|\n",
      "|0.008357567948149352|[0.0,0.0,0.0,8625...|         5|\n",
      "|                 0.0|[0.0,0.0,6.0,8395...|         3|\n",
      "|  0.1262724936168163|[0.0,0.0,0.0,5464...|         5|\n",
      "|                 0.0|[0.0,0.0,6.0,1525...|         3|\n",
      "|                 0.0|[0.0,0.0,0.0,1118...|         5|\n",
      "|                 0.0|[0.0,0.0,6.0,1871...|         3|\n",
      "+--------------------+--------------------+----------+\n",
      "only showing top 20 rows\n",
      "\n"
     ]
    }
   ],
   "source": [
    "feature_cols = ['meter',\n",
    " 'site_id',\n",
    " 'primary_use',\n",
    " 'square_feet',\n",
    " 'air_temperature',\n",
    " 'dew_temperature',\n",
    " 'sea_level_pressure',\n",
    " 'wind_direction',\n",
    " 'wind_speed']\n",
    "\n",
    "feature_vector=VectorAssembler(inputCols=feature_cols, outputCol='features')\n",
    "\n",
    "models_data = feature_vector.transform(final_pred_df).select('meter_reading_log', 'features', 'prediction')\n",
    "models_data.show()"
   ]
  },
  {
   "cell_type": "code",
   "execution_count": 20,
   "id": "dress-focus",
   "metadata": {
    "colab": {
     "base_uri": "https://localhost:8080/"
    },
    "id": "dress-focus",
    "outputId": "e6a8241c-9098-4386-aa61-d4312be492b1"
   },
   "outputs": [
    {
     "name": "stdout",
     "output_type": "stream",
     "text": [
      "+--------------------+--------------------+----------+\n",
      "|   meter_reading_log|            features|prediction|\n",
      "+--------------------+--------------------+----------+\n",
      "| 0.01362217674258455|[0.0,0.0,0.0,7432...|         5|\n",
      "| 0.07567642121546515|[0.0,0.0,0.0,2720...|         5|\n",
      "|0.001473113208880...|[0.0,0.0,0.0,5376...|         5|\n",
      "|                 0.0|[0.0,0.0,0.0,2368...|         5|\n",
      "|0.007686640281007755|[0.0,0.0,0.0,1166...|         5|\n",
      "|0.004430891378755459|[0.0,0.0,0.0,8000...|         5|\n",
      "|                 0.0|[0.0,0.0,4.0,2792...|         3|\n",
      "|                 0.0|[0.0,0.0,0.0,1210...|         5|\n",
      "|                 0.0|[0.0,0.0,0.0,6080...|         5|\n",
      "|                 0.0|[0.0,0.0,6.0,2700...|         3|\n",
      "|                 0.0|[0.0,0.0,1.0,3707...|         5|\n",
      "| 0.06747590715320322|[0.0,0.0,0.0,4907...|         5|\n",
      "|0.053470037352233005|[0.0,0.0,4.0,3710...|         3|\n",
      "|                 0.0|[0.0,0.0,0.0,9938...|         5|\n",
      "|0.008357567948149352|[0.0,0.0,0.0,8625...|         5|\n",
      "|                 0.0|[0.0,0.0,6.0,8395...|         3|\n",
      "|  0.1262724936168163|[0.0,0.0,0.0,5464...|         5|\n",
      "|                 0.0|[0.0,0.0,6.0,1525...|         3|\n",
      "|                 0.0|[0.0,0.0,0.0,1118...|         5|\n",
      "|                 0.0|[0.0,0.0,6.0,1871...|         3|\n",
      "+--------------------+--------------------+----------+\n",
      "only showing top 20 rows\n",
      "\n"
     ]
    }
   ],
   "source": [
    "models_data_clusers = models_data.filter((models_data.prediction == 2) | (models_data.prediction == 5) | (models_data.prediction == 3) | (models_data.prediction == 1) | (models_data.prediction == 10) )\n",
    "models_data_clusers.show()"
   ]
  },
  {
   "cell_type": "code",
   "execution_count": 21,
   "id": "synthetic-habitat",
   "metadata": {
    "colab": {
     "base_uri": "https://localhost:8080/"
    },
    "id": "synthetic-habitat",
    "outputId": "d8600733-4538-4cab-a972-025f4ea3f5b2"
   },
   "outputs": [
    {
     "data": {
      "text/plain": [
       "16871"
      ]
     },
     "execution_count": 21,
     "metadata": {},
     "output_type": "execute_result"
    }
   ],
   "source": [
    "models_data_clusers.count()"
   ]
  },
  {
   "cell_type": "code",
   "execution_count": 23,
   "id": "seasonal-sydney",
   "metadata": {
    "id": "seasonal-sydney"
   },
   "outputs": [],
   "source": [
    "train, test = models_data_clusers.drop('prediction').randomSplit(weights=[0.8,0.2], seed=200)"
   ]
  },
  {
   "cell_type": "markdown",
   "id": "acoustic-robin",
   "metadata": {
    "id": "acoustic-robin"
   },
   "source": [
    "## Gradient-boosted tree regression"
   ]
  },
  {
   "cell_type": "code",
   "execution_count": 24,
   "id": "pressing-merchandise",
   "metadata": {
    "colab": {
     "base_uri": "https://localhost:8080/"
    },
    "id": "pressing-merchandise",
    "outputId": "5f1b9f0e-bf51-402a-b9ae-903a83a07779"
   },
   "outputs": [
    {
     "name": "stdout",
     "output_type": "stream",
     "text": [
      "+-------------------+-----------------+--------------------+\n",
      "|         prediction|meter_reading_log|            features|\n",
      "+-------------------+-----------------+--------------------+\n",
      "|0.14065206376119585|              0.0|[0.0,0.0,0.0,7432...|\n",
      "|0.20668087204561053|              0.0|[0.0,0.0,0.0,6190...|\n",
      "| 0.3262853526572117|              0.0|[0.0,0.0,0.0,8625...|\n",
      "|   0.57441205709734|              0.0|[0.0,0.0,0.0,9389...|\n",
      "| 0.5185034438193838|              0.0|[0.0,0.0,0.0,9389...|\n",
      "+-------------------+-----------------+--------------------+\n",
      "only showing top 5 rows\n",
      "\n"
     ]
    }
   ],
   "source": [
    "from pyspark.ml.regression import GBTRegressor\n",
    "gbt = GBTRegressor(featuresCol = 'features', labelCol = 'meter_reading_log', maxIter=10)\n",
    "gbt_model = gbt.fit(train)\n",
    "gbt_predictions = gbt_model.transform(test)\n",
    "gbt_predictions.select('prediction', 'meter_reading_log', 'features').show(5)"
   ]
  },
  {
   "cell_type": "code",
   "execution_count": 25,
   "id": "integrated-insert",
   "metadata": {
    "colab": {
     "base_uri": "https://localhost:8080/"
    },
    "id": "integrated-insert",
    "outputId": "aa1e5a35-eca0-4478-fea8-835bcb935586"
   },
   "outputs": [
    {
     "name": "stdout",
     "output_type": "stream",
     "text": [
      "Root Mean Squared Error (RMSE) on test data = 1.09844\n"
     ]
    }
   ],
   "source": [
    "from pyspark.ml.evaluation import RegressionEvaluator\n",
    "gbt_evaluator = RegressionEvaluator(labelCol=\"meter_reading_log\", predictionCol=\"prediction\", metricName=\"rmse\")\n",
    "rmse = gbt_evaluator.evaluate(gbt_predictions)\n",
    "print(\"Root Mean Squared Error (RMSE) on test data = %g\" % rmse)"
   ]
  },
  {
   "cell_type": "markdown",
   "id": "pacific-stationery",
   "metadata": {
    "id": "pacific-stationery"
   },
   "source": [
    "## Multiple Linear Regression (MLR)"
   ]
  },
  {
   "cell_type": "code",
   "execution_count": 25,
   "id": "efficient-survey",
   "metadata": {},
   "outputs": [
    {
     "name": "stdout",
     "output_type": "stream",
     "text": [
      "Coefficients: [0.0,0.0,0.0,6.192966703844494e-06,0.0017194799391838423,0.0,0.0,0.0,0.0]\n",
      "Intercept: 3.3352612861019826\n"
     ]
    }
   ],
   "source": [
    "from pyspark.ml.regression import LinearRegression\n",
    "\n",
    "lr = LinearRegression(featuresCol = 'features', labelCol='meter_reading_log', regParam=0.3, elasticNetParam=0.8)\n",
    "\n",
    "lr_model = lr.fit(train)\n",
    "print(\"Coefficients: \" + str(lr_model.coefficients))\n",
    "print(\"Intercept: \" + str(lr_model.intercept))"
   ]
  },
  {
   "cell_type": "code",
   "execution_count": 26,
   "id": "narrative-toddler",
   "metadata": {},
   "outputs": [
    {
     "name": "stdout",
     "output_type": "stream",
     "text": [
      "RMSE: 1.660778\n",
      "r2: 0.140599\n"
     ]
    }
   ],
   "source": [
    "trainingSummary = lr_model.summary\n",
    "print(\"RMSE: %f\" % trainingSummary.rootMeanSquaredError)\n",
    "print(\"r2: %f\" % trainingSummary.r2)"
   ]
  },
  {
   "cell_type": "code",
   "execution_count": 33,
   "id": "cloudy-fundamental",
   "metadata": {
    "id": "cloudy-fundamental",
    "outputId": "31d5a095-8c30-44fb-a797-2df091c07a49"
   },
   "outputs": [
    {
     "name": "stdout",
     "output_type": "stream",
     "text": [
      "+-------------------+\n",
      "|          residuals|\n",
      "+-------------------+\n",
      "|-3.3878356725355907|\n",
      "|-3.3950311568882685|\n",
      "|-3.3950311568882685|\n",
      "|-3.3950311568882685|\n",
      "| -3.403218160667519|\n",
      "| -3.417155180719745|\n",
      "| -3.417155180719745|\n",
      "| -3.417155180719745|\n",
      "| -3.417155180719745|\n",
      "| -3.467937699784328|\n",
      "| -3.467937699784328|\n",
      "| -3.467937699784328|\n",
      "| -3.467937699784328|\n",
      "| -3.615765680475426|\n",
      "| -3.615765680475426|\n",
      "| -3.615765680475426|\n",
      "| -3.615765680475426|\n",
      "|-3.6201259767489082|\n",
      "|-3.6201259767489082|\n",
      "|-3.6201259767489082|\n",
      "+-------------------+\n",
      "only showing top 20 rows\n",
      "\n"
     ]
    }
   ],
   "source": [
    "trainingSummary.residuals.show()"
   ]
  },
  {
   "cell_type": "code",
   "execution_count": 34,
   "id": "shaped-donna",
   "metadata": {
    "id": "shaped-donna",
    "outputId": "2a19f3b2-f4dd-40b1-c680-467ee9e14537"
   },
   "outputs": [
    {
     "name": "stdout",
     "output_type": "stream",
     "text": [
      "+------------------+--------------------+--------------------+\n",
      "|        prediction|   meter_reading_log|            features|\n",
      "+------------------+--------------------+--------------------+\n",
      "|3.6419194941048607| 4.76105855986088E-5|[1.0,10.0,0.0,673...|\n",
      "| 4.916651114155943|7.052093961370494E-5|[1.0,7.0,0.0,3875...|\n",
      "| 4.916651114155943|2.745692259057134E-4|[1.0,7.0,0.0,3875...|\n",
      "| 4.017733230816003|3.986080501608002E-4|[0.0,0.0,11.0,161...|\n",
      "|3.3950311568882685|0.001473113208880...|[0.0,0.0,0.0,5376...|\n",
      "|3.4244701252442993| 0.00630157389709752|[0.0,0.0,6.0,1276...|\n",
      "|3.3775421877255893|0.006469760616967404|[0.0,8.0,1.0,984....|\n",
      "| 3.539343026520476|0.006590566603955...|[0.0,0.0,4.0,4161...|\n",
      "| 3.539343026520476|0.007093219819557167|[0.0,0.0,4.0,4161...|\n",
      "| 3.854793538382563|0.007129675681623275|[1.0,6.0,0.0,1208...|\n",
      "| 3.403218160667519|0.007496714150041255|[0.0,0.0,0.0,7432...|\n",
      "|4.1387742589667225|0.007948969332885887|[1.0,13.0,0.0,192...|\n",
      "|3.7977990903804164|0.009733451329222797|[0.0,0.0,0.0,1065...|\n",
      "|3.7948842621866365|0.011683425558543561|[1.0,6.0,4.0,1057...|\n",
      "|3.7150092092644638|0.012703284178796004|[1.0,13.0,0.0,857...|\n",
      "|3.6307937700974553|0.013477247753787084|[1.0,7.0,0.0,6458...|\n",
      "| 3.805030412784657|0.013620941556043471|[1.0,6.0,1.0,1083...|\n",
      "|3.4096411359087306|0.013774813356286948|[0.0,0.0,11.0,904...|\n",
      "|3.6013986038044457| 0.01496145141483846|[1.0,13.0,1.0,572...|\n",
      "| 3.522889378847391| 0.01526156735187592|[1.0,6.0,6.0,3748...|\n",
      "+------------------+--------------------+--------------------+\n",
      "only showing top 20 rows\n",
      "\n"
     ]
    }
   ],
   "source": [
    "lr_predictions = lr_model.transform(test)\n",
    "lr_predictions.select(\"prediction\",\"meter_reading_log\",\"features\").filter(lr_predictions.meter_reading_log != 0).show()"
   ]
  },
  {
   "cell_type": "code",
   "execution_count": 29,
   "id": "pediatric-evanescence",
   "metadata": {},
   "outputs": [
    {
     "name": "stdout",
     "output_type": "stream",
     "text": [
      "R Squared (R2) on test data = 0.166125\n"
     ]
    }
   ],
   "source": [
    "from pyspark.ml.evaluation import RegressionEvaluator\n",
    "lr_evaluator = RegressionEvaluator(predictionCol=\"prediction\", \\\n",
    "                 labelCol=\"meter_reading_log\",metricName=\"r2\")\n",
    "print(\"R Squared (R2) on test data = %g\" % lr_evaluator.evaluate(lr_predictions))"
   ]
  },
  {
   "cell_type": "markdown",
   "id": "comprehensive-shopping",
   "metadata": {
    "id": "comprehensive-shopping"
   },
   "source": [
    "## Decision tree regression"
   ]
  },
  {
   "cell_type": "code",
   "execution_count": 35,
   "id": "provincial-copyright",
   "metadata": {
    "colab": {
     "base_uri": "https://localhost:8080/"
    },
    "id": "provincial-copyright",
    "outputId": "a12a0f0c-5ecd-4b6d-8700-57a0c2078509"
   },
   "outputs": [],
   "source": [
    "from pyspark.ml.regression import DecisionTreeRegressor\n",
    "dt = DecisionTreeRegressor(featuresCol ='features', labelCol = 'meter_reading_log')\n",
    "dt_model = dt.fit(train)"
   ]
  },
  {
   "cell_type": "code",
   "execution_count": 37,
   "id": "thermal-intake",
   "metadata": {},
   "outputs": [
    {
     "name": "stdout",
     "output_type": "stream",
     "text": [
      "+------------------+--------------------+--------------------+\n",
      "|        prediction|   meter_reading_log|            features|\n",
      "+------------------+--------------------+--------------------+\n",
      "| 1.013906154508155| 4.76105855986088E-5|[1.0,10.0,0.0,673...|\n",
      "| 1.013906154508155|7.052093961370494E-5|[1.0,7.0,0.0,3875...|\n",
      "| 1.013906154508155|2.745692259057134E-4|[1.0,7.0,0.0,3875...|\n",
      "|0.7487595155742853|3.986080501608002E-4|[0.0,0.0,11.0,161...|\n",
      "| 1.329519339352537|0.001473113208880...|[0.0,0.0,0.0,5376...|\n",
      "|2.9037896837106474| 0.00630157389709752|[0.0,0.0,6.0,1276...|\n",
      "|0.8474881618102132|0.006469760616967404|[0.0,8.0,1.0,984....|\n",
      "|1.7512225264264725|0.006590566603955...|[0.0,0.0,4.0,4161...|\n",
      "|1.7512225264264725|0.007093219819557167|[0.0,0.0,4.0,4161...|\n",
      "| 4.190632551510765|0.007129675681623275|[1.0,6.0,0.0,1208...|\n",
      "| 2.506487794974886|0.007496714150041255|[0.0,0.0,0.0,7432...|\n",
      "| 1.013906154508155|0.007948969332885887|[1.0,13.0,0.0,192...|\n",
      "|0.7487595155742853|0.009733451329222797|[0.0,0.0,0.0,1065...|\n",
      "| 1.013906154508155|0.011683425558543561|[1.0,6.0,4.0,1057...|\n",
      "| 1.013906154508155|0.012703284178796004|[1.0,13.0,0.0,857...|\n",
      "| 1.013906154508155|0.013477247753787084|[1.0,7.0,0.0,6458...|\n",
      "| 3.423067881307927|0.013620941556043471|[1.0,6.0,1.0,1083...|\n",
      "|2.9037896837106474|0.013774813356286948|[0.0,0.0,11.0,904...|\n",
      "|2.1145090066405694| 0.01496145141483846|[1.0,13.0,1.0,572...|\n",
      "| 1.013906154508155| 0.01526156735187592|[1.0,6.0,6.0,3748...|\n",
      "+------------------+--------------------+--------------------+\n",
      "only showing top 20 rows\n",
      "\n"
     ]
    }
   ],
   "source": [
    "dt_predictions = dt_model.transform(test)\n",
    "dt_predictions.select(\"prediction\",\"meter_reading_log\",\"features\").filter(lr_predictions.meter_reading_log != 0).show()"
   ]
  },
  {
   "cell_type": "code",
   "execution_count": 38,
   "id": "explicit-irrigation",
   "metadata": {},
   "outputs": [
    {
     "name": "stdout",
     "output_type": "stream",
     "text": [
      "Root Mean Squared Error (RMSE) on test data = 1.20964\n"
     ]
    }
   ],
   "source": [
    "dt_evaluator = RegressionEvaluator(\n",
    "    labelCol=\"meter_reading_log\", predictionCol=\"prediction\", metricName=\"rmse\")\n",
    "rmse = dt_evaluator.evaluate(dt_predictions)\n",
    "print(\"Root Mean Squared Error (RMSE) on test data = %g\" % rmse)"
   ]
  },
  {
   "cell_type": "code",
   "execution_count": 39,
   "id": "early-drive",
   "metadata": {
    "colab": {
     "base_uri": "https://localhost:8080/"
    },
    "id": "early-drive",
    "outputId": "91519bd8-0466-4fba-9f19-86ef1cba8651"
   },
   "outputs": [
    {
     "data": {
      "text/plain": [
       "SparseVector(9, {0: 0.1155, 1: 0.1477, 2: 0.0232, 3: 0.4535, 4: 0.1575, 5: 0.0336, 8: 0.069})"
      ]
     },
     "execution_count": 39,
     "metadata": {},
     "output_type": "execute_result"
    }
   ],
   "source": [
    "dt_model.featureImportances"
   ]
  },
  {
   "cell_type": "code",
   "execution_count": 40,
   "id": "roman-receptor",
   "metadata": {
    "colab": {
     "base_uri": "https://localhost:8080/"
    },
    "id": "roman-receptor",
    "outputId": "a1538abb-36d8-40d5-bcd7-ecef48255ff2"
   },
   "outputs": [
    {
     "data": {
      "text/plain": [
       "[Row(meter_reading_log=0.0, features=DenseVector([0.0, 0.0, 0.0, 3569.0, 22.4957, 14.559, 1017.2755, 160.4132, 4.1683]))]"
      ]
     },
     "execution_count": 40,
     "metadata": {},
     "output_type": "execute_result"
    }
   ],
   "source": [
    "train.take(1)"
   ]
  },
  {
   "cell_type": "code",
   "execution_count": 41,
   "id": "B4GY5V8mA_zv",
   "metadata": {
    "colab": {
     "base_uri": "https://localhost:8080/"
    },
    "id": "B4GY5V8mA_zv",
    "outputId": "a8b02f03-e1b1-41a8-ad65-eb72ed0c6e14"
   },
   "outputs": [
    {
     "data": {
      "text/plain": [
       "[Row(meter_reading_log=0.0, features=DenseVector([0.0, 0.0, 0.0, 7432.0, 16.3308, 8.8386, 1019.9609, 215.6494, 4.4739]))]"
      ]
     },
     "execution_count": 41,
     "metadata": {},
     "output_type": "execute_result"
    }
   ],
   "source": [
    "test.take(1)"
   ]
  },
  {
   "cell_type": "markdown",
   "id": "prospective-contemporary",
   "metadata": {
    "id": "prospective-contemporary"
   },
   "source": [
    "## Results"
   ]
  },
  {
   "cell_type": "markdown",
   "id": "informal-hopkins",
   "metadata": {},
   "source": [
    "| ML Method           | Root Mean Squared Error (RMSE) |\n",
    "| ---                 | ---                |\n",
    "|    Gradient-boosted tree regression                 |      1.09844              |\n",
    "| Multiple Linear regression                |      1.660778              | \n",
    "|          Decision tree regression           |          1.20964          |"
   ]
  },
  {
   "cell_type": "markdown",
   "id": "critical-category",
   "metadata": {
    "id": "critical-category"
   },
   "source": [
    "The best model out of the three is the Gradient Boosted Tree model. On the other hand, the worst model is the Multiple Linear Regression model."
   ]
  }
 ],
 "metadata": {
  "colab": {
   "name": "CSCI461 Project (1).ipynb",
   "provenance": []
  },
  "kernelspec": {
   "display_name": "Python 3",
   "language": "python",
   "name": "python3"
  },
  "language_info": {
   "codemirror_mode": {
    "name": "ipython",
    "version": 3
   },
   "file_extension": ".py",
   "mimetype": "text/x-python",
   "name": "python",
   "nbconvert_exporter": "python",
   "pygments_lexer": "ipython3",
   "version": "3.8.5"
  }
 },
 "nbformat": 4,
 "nbformat_minor": 5
}
